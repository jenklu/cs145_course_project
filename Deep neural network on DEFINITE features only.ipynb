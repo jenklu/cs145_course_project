{
 "cells": [
  {
   "cell_type": "markdown",
   "metadata": {},
   "source": [
    "# Imports"
   ]
  },
  {
   "cell_type": "code",
   "execution_count": 1,
   "metadata": {},
   "outputs": [],
   "source": [
    "import pandas as pd\n",
    "import numpy as np\n",
    "import matplotlib.pyplot as plt\n",
    "from src.get_data import *\n",
    "from IPython.display import clear_output\n",
    "from collections import OrderedDict\n",
    "\n",
    "import torch\n",
    "import torch.nn as nn\n",
    "import torch.optim as optim\n",
    "from torch.autograd import Variable"
   ]
  },
  {
   "cell_type": "markdown",
   "metadata": {
    "heading_collapsed": true
   },
   "source": [
    "# Load data"
   ]
  },
  {
   "cell_type": "code",
   "execution_count": 54,
   "metadata": {
    "hidden": true
   },
   "outputs": [
    {
     "name": "stdout",
     "output_type": "stream",
     "text": [
      "The autoreload extension is already loaded. To reload it, use:\n",
      "  %reload_ext autoreload\n",
      "========== Feature 'attributes_GoodForKids' ==========\n",
      "TYPE: boolean. Changing False -> 0, True -> 1.\n",
      "Detected NaN in column. Replacing with mean of non-NaN values.\n",
      "\n",
      "========== Feature 'attributes_OutdoorSeating' ==========\n",
      "TYPE: boolean. Changing False -> 0, True -> 1.\n",
      "Detected NaN in column. Replacing with mean of non-NaN values.\n",
      "\n",
      "========== Feature 'attributes_RestaurantsDelivery' ==========\n",
      "TYPE: boolean. Changing False -> 0, True -> 1.\n",
      "Detected NaN in column. Replacing with mean of non-NaN values.\n",
      "\n",
      "========== Feature 'attributes_RestaurantsGoodForGroups' ==========\n",
      "TYPE: boolean. Changing False -> 0, True -> 1.\n",
      "Detected NaN in column. Replacing with mean of non-NaN values.\n",
      "\n",
      "========== Feature 'attributes_RestaurantsPriceRange2' ==========\n",
      "TYPE: numeric.\n",
      "Detected NaN in column. Replacing with mean of non-NaN values.\n",
      "\n",
      "========== Feature 'attributes_RestaurantsReservations' ==========\n",
      "TYPE: boolean. Changing False -> 0, True -> 1.\n",
      "Detected NaN in column. Replacing with mean of non-NaN values.\n",
      "\n",
      "========== Feature 'attributes_WiFi' ==========\n",
      "TYPE: string. Doing one-hot encoding.\n",
      "\n"
     ]
    }
   ],
   "source": [
    "%load_ext autoreload\n",
    "%autoreload 2\n",
    "\n",
    "b_data, u_data, train_reviews = get_training_data(verbose=True)\n",
    "valid_reviews = get_validation_reviews()\n",
    "\n",
    "# due to quirks with how PyTorch works, I have to subtract one from the stars, \n",
    "#   so that they range from [0, 4]\n",
    "train_reviews['stars'] -= 1\n",
    "valid_reviews['stars'] -= 1"
   ]
  },
  {
   "cell_type": "markdown",
   "metadata": {},
   "source": [
    "# Set up neural net"
   ]
  },
  {
   "cell_type": "markdown",
   "metadata": {
    "heading_collapsed": true
   },
   "source": [
    "## Hyperparameters"
   ]
  },
  {
   "cell_type": "code",
   "execution_count": 30,
   "metadata": {
    "hidden": true
   },
   "outputs": [],
   "source": [
    "# Fixed\n",
    "input_size = len(b_data.columns) + len(u_data.columns)\n",
    "output_size = 5\n",
    "\n",
    "# Hyperparameters / architecture choices\n",
    "num_epochs = 10\n",
    "batch_size = 100\n",
    "learning_rate = 0.001\n",
    "\n",
    "hidden_size = 100\n",
    "num_hidden_layers = 2\n",
    "activation = nn.ReLU"
   ]
  },
  {
   "cell_type": "markdown",
   "metadata": {
    "heading_collapsed": true
   },
   "source": [
    "## Network code"
   ]
  },
  {
   "cell_type": "code",
   "execution_count": 77,
   "metadata": {
    "hidden": true
   },
   "outputs": [],
   "source": [
    "class FFNN(nn.Module):\n",
    "    \"\"\"\n",
    "    Feed forward neural network.\n",
    "    \"\"\"\n",
    "    \n",
    "    def __init__(self, in_size, hidden_size, num_hidden_layers, out_size, activation):\n",
    "        super(FFNN, self).__init__()\n",
    "        \n",
    "        self.in_size = in_size\n",
    "        self.out_size = out_size\n",
    "        \n",
    "        self.hidden_size = hidden_size\n",
    "        self.num_hidden_layers = num_hidden_layers\n",
    "        \n",
    "        layers = OrderedDict()\n",
    "        layers['linear_in'] = nn.Linear(in_size, hidden_size)\n",
    "        layers['activ_in'] = activation()\n",
    "        \n",
    "        for i in range(0, num_hidden_layers-1):\n",
    "            layers['linear_%d' % i] = nn.Linear(hidden_size, hidden_size)\n",
    "            layers['activ_%d' % i] = activation()\n",
    "            \n",
    "        layers['linear_out'] = nn.Linear(hidden_size, out_size)\n",
    "        \n",
    "        self.model = nn.Sequential(layers)\n",
    "        \n",
    "    def forward(self, x):\n",
    "#         for i, layer in enumerate(self.model.children()):\n",
    "#             x = layer(x)\n",
    "            \n",
    "        return self.model(x)\n",
    "    \n",
    "    def predict(self, x, return_probs=False):\n",
    "        \"\"\"\n",
    "        Returns class predictions for each data point in x - a numpy array of shape\n",
    "            (len(x), ).\n",
    "        \n",
    "        If return_probs=True, returns class probabilities instead - as a numpy array \n",
    "            of size ( len(x), num_classes ).\n",
    "        \"\"\"\n",
    "        N = x.shape[0]\n",
    "        \n",
    "        if isinstance(x, Variable):\n",
    "            scores = self.model(x).data.numpy()\n",
    "        elif isinstance(x, torch.Tensor):\n",
    "            scores = self.model(x).numpy()\n",
    "        else:\n",
    "            scores = self.model(torch.FloatTensor(x)).numpy()\n",
    "            \n",
    "        probs = np.exp(scores)\n",
    "        probs /= probs.sum(axis=1).reshape(N, 1)\n",
    "        \n",
    "        if return_probs:\n",
    "            return probs\n",
    "        \n",
    "        predictions = probs.argmax(axis=1)\n",
    "        return predictions\n",
    "        "
   ]
  },
  {
   "cell_type": "markdown",
   "metadata": {
    "heading_collapsed": true
   },
   "source": [
    "## Helper functions for training"
   ]
  },
  {
   "cell_type": "code",
   "execution_count": 68,
   "metadata": {
    "hidden": true
   },
   "outputs": [],
   "source": [
    "def make_arrays(b_data, u_data, reviews):\n",
    "    \"\"\"\n",
    "    Returns X, y as numpy arrays.\n",
    "    \"\"\"\n",
    "    Nr = len(reviews['stars'])\n",
    "    Db, Du = len(b_data.columns), len(u_data.columns)\n",
    "    X = np.zeros((Nr, Db+Du))\n",
    "    y = np.zeros(Nr)\n",
    "    \n",
    "    for j, (i, review) in enumerate(reviews.iterrows()):\n",
    "        u_id = review['user_id']\n",
    "        b_id = review['business_id']\n",
    "        y[j] = review['stars']\n",
    "        \n",
    "        X[j, :Db] = b_data.loc[b_id].values\n",
    "        X[j, Db:] = u_data.loc[u_id].values\n",
    "        \n",
    "    return X, y\n",
    "\n",
    "def one_hot_encode(y):\n",
    "    y_out = np.zeros((y.shape[0], 5))\n",
    "    \n",
    "    for i, c in enumerate(y):\n",
    "        y_out[i, c] = 1\n",
    "        \n",
    "    return y_out\n",
    "\n",
    "def calculate_accuracy(model, reviews, b_data, u_data):\n",
    "    X, y = make_arrays(b_data, u_data, reviews)\n",
    "    \n",
    "    y_pred = np.zeros_like(y)\n",
    "    for i in range(0, X.shape[0], 100):\n",
    "        x_in = X[i:i+100]\n",
    "        \n",
    "        y_out = model.predict(x_in)\n",
    "        \n",
    "        y_pred[i:i+100] = y_out\n",
    "        \n",
    "    accuracy = np.mean(np.where(y_pred == y, 1, 0))\n",
    "    return accuracy\n",
    "\n",
    "def calculate_mse(model, reviews, b_data, u_data):\n",
    "    X, y = make_arrays(b_data, u_data, reviews)\n",
    "    \n",
    "    y_pred = np.zeros_like(y)\n",
    "    for i in range(0, X.shape[0], 100):\n",
    "        x_in = X[i:i+100]\n",
    "        \n",
    "        y_out = model.predict(x_in)\n",
    "        \n",
    "        y_pred[i:i+100] = y_out\n",
    "        \n",
    "    mse = np.mean((y - y_pred)**2)\n",
    "    return mse"
   ]
  },
  {
   "cell_type": "markdown",
   "metadata": {
    "heading_collapsed": true
   },
   "source": [
    "# Train network"
   ]
  },
  {
   "cell_type": "code",
   "execution_count": 63,
   "metadata": {
    "hidden": true
   },
   "outputs": [],
   "source": [
    "model = FFNN(input_size, hidden_size, num_hidden_layers, output_size, activation)\n",
    "\n",
    "criterion = nn.CrossEntropyLoss()\n",
    "optimizer = optim.Adam(model.parameters(), lr=learning_rate)\n",
    "\n",
    "stats = np.zeros((num_epochs, 3))\n",
    "N = len(train_reviews['stars'])\n",
    "num_batches = int(np.ceil(N / batch_size))\n",
    "\n",
    "for epoch in range(num_epochs):\n",
    "    # shuffle review order\n",
    "    shuf_idx = np.random.permutation(N)\n",
    "    \n",
    "    print('Epoch [%d/%d]' % (epoch+1, num_epochs))\n",
    "    losses = []\n",
    "    for b_num in range(num_batches):\n",
    "        if (b_num % 500) == 0:\n",
    "            print('Batch [%d/%d]' % (b_num+1, num_batches))\n",
    "        # Create batch\n",
    "        batch_idx = shuf_idx[b_num:b_num+100]\n",
    "        batch_reviews = train_reviews.iloc[batch_idx]\n",
    "        \n",
    "        X_batch, y_batch = make_arrays(b_data, u_data, batch_reviews)\n",
    "        X_batch = Variable(torch.FloatTensor(X_batch))\n",
    "        y_batch = torch.LongTensor(y_batch)\n",
    "        \n",
    "        # forward pass; compute loss\n",
    "        outputs = model(X_batch)\n",
    "        try:\n",
    "            loss = criterion(outputs, y_batch)\n",
    "        except RuntimeError:\n",
    "            print(np.unique(y_batch.numpy()))\n",
    "            print(epoch, b_num)\n",
    "            raise\n",
    "        \n",
    "        # Backward pass; update parameters\n",
    "        optimizer.zero_grad()\n",
    "        loss.backward()\n",
    "        optimizer.step()\n",
    "        \n",
    "        losses.append(loss.data.item())\n",
    "        \n",
    "    avg_loss = np.mean(losses)\n",
    "    stats[epoch, 0] = avg_loss\n",
    "    print('avg_loss: ', avg_loss)\n",
    "        \n",
    "#     train_accuracy = calculate_accuracy(model, train_reviews, b_data, u_data)\n",
    "#     stats[epoch, 1] = train_accuracy\n",
    "    \n",
    "#     valid_accuracy = calculate_accuracy(model, valid_reviews, b_data, u_data)\n",
    "#     stats[epoch, 2] = valid_accuracy\n",
    "    \n",
    "    clear_output()\n",
    "    \n",
    "\n",
    "    "
   ]
  },
  {
   "cell_type": "markdown",
   "metadata": {},
   "source": [
    "# See results"
   ]
  },
  {
   "cell_type": "code",
   "execution_count": 81,
   "metadata": {
    "code_folding": []
   },
   "outputs": [
    {
     "name": "stdout",
     "output_type": "stream",
     "text": [
      "Final training MSE:  1.5281165131263645\n",
      "Final validation MSE:  1.7213091838568604\n"
     ]
    },
    {
     "name": "stderr",
     "output_type": "stream",
     "text": [
      "/home/cole/.virtualenvs/RL/lib/python3.5/site-packages/ipykernel_launcher.py:23: RuntimeWarning: overflow encountered in exp\n",
      "/home/cole/.virtualenvs/RL/lib/python3.5/site-packages/ipykernel_launcher.py:24: RuntimeWarning: invalid value encountered in true_divide\n"
     ]
    }
   ],
   "source": [
    "#train_mse = calculate_mse(model, train_reviews, b_data, u_data)\n",
    "#valid_mse = calculate_mse(model, valid_reviews, b_data, u_data)\n",
    "\n",
    "# mse = calculate_mse(model, train_reviews.iloc[:2], b_data, u_data)\n",
    "\n",
    "def predict2(self, x, return_probs=False):\n",
    "    \"\"\"\n",
    "    Returns class predictions for each data point in x - a numpy array of shape\n",
    "        (len(x), ).\n",
    "\n",
    "    If return_probs=True, returns class probabilities instead - as a numpy array \n",
    "        of size ( len(x), num_classes ).\n",
    "    \"\"\"\n",
    "    N = x.shape[0]\n",
    "\n",
    "    if isinstance(x, Variable):\n",
    "        scores = self.model(x).data.numpy()\n",
    "    elif isinstance(x, torch.Tensor):\n",
    "        scores = self.model(x).numpy()\n",
    "    else:\n",
    "        scores = self.model(torch.FloatTensor(x)).data.numpy()\n",
    "\n",
    "    probs = np.exp(scores)\n",
    "    probs /= probs.sum(axis=1).reshape(N, 1)\n",
    "\n",
    "    if return_probs:\n",
    "        return probs\n",
    "\n",
    "    predictions = probs.argmax(axis=1)\n",
    "    return predictions\n",
    "\n",
    "def calculate_mse2(model, reviews, b_data, u_data):\n",
    "    X, y = make_arrays(b_data, u_data, reviews)\n",
    "    \n",
    "    y_pred = np.zeros_like(y)\n",
    "    for i in range(0, X.shape[0], 100):\n",
    "        x_in = X[i:i+100]\n",
    "        \n",
    "        y_out = predict2(model, x_in)\n",
    "        \n",
    "        y_pred[i:i+100] = y_out\n",
    "        \n",
    "    mse = np.mean((y - y_pred)**2)\n",
    "    return mse\n",
    "\n",
    "train_mse = calculate_mse2(model, train_reviews, b_data, u_data)\n",
    "valid_mse = calculate_mse2(model, valid_reviews, b_data, u_data)\n",
    "\n",
    "print('Final training MSE: ', train_mse)\n",
    "print('Final validation MSE: ', valid_mse)"
   ]
  }
 ],
 "metadata": {
  "kernelspec": {
   "display_name": "Python 3",
   "language": "python",
   "name": "python3"
  },
  "language_info": {
   "codemirror_mode": {
    "name": "ipython",
    "version": 3
   },
   "file_extension": ".py",
   "mimetype": "text/x-python",
   "name": "python",
   "nbconvert_exporter": "python",
   "pygments_lexer": "ipython3",
   "version": "3.5.2"
  },
  "varInspector": {
   "cols": {
    "lenName": 16,
    "lenType": 16,
    "lenVar": 40
   },
   "kernels_config": {
    "python": {
     "delete_cmd_postfix": "",
     "delete_cmd_prefix": "del ",
     "library": "var_list.py",
     "varRefreshCmd": "print(var_dic_list())"
    },
    "r": {
     "delete_cmd_postfix": ") ",
     "delete_cmd_prefix": "rm(",
     "library": "var_list.r",
     "varRefreshCmd": "cat(var_dic_list()) "
    }
   },
   "types_to_exclude": [
    "module",
    "function",
    "builtin_function_or_method",
    "instance",
    "_Feature"
   ],
   "window_display": false
  }
 },
 "nbformat": 4,
 "nbformat_minor": 2
}

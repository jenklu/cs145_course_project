{
 "cells": [
  {
   "cell_type": "markdown",
   "metadata": {
    "heading_collapsed": true
   },
   "source": [
    "# Imports"
   ]
  },
  {
   "cell_type": "code",
   "execution_count": 17,
   "metadata": {
    "hidden": true
   },
   "outputs": [
    {
     "name": "stdout",
     "output_type": "stream",
     "text": [
      "The autoreload extension is already loaded. To reload it, use:\n",
      "  %reload_ext autoreload\n"
     ]
    }
   ],
   "source": [
    "import pandas as pd\n",
    "import numpy as np\n",
    "import matplotlib.pyplot as plt\n",
    "from IPython.display import clear_output\n",
    "from sklearn.preprocessing import StandardScaler\n",
    "from sklearn.svm import LinearSVC as SupportVectorClf\n",
    "from sklearn.svm import SVR as RBFSVR\n",
    "from src.get_data import *\n",
    "from src.preprocessing import *\n",
    "from src.create_output import *\n",
    "\n",
    "%load_ext autoreload\n",
    "%autoreload 2"
   ]
  },
  {
   "cell_type": "markdown",
   "metadata": {
    "heading_collapsed": true
   },
   "source": [
    "# Load data"
   ]
  },
  {
   "cell_type": "code",
   "execution_count": 2,
   "metadata": {
    "hidden": true
   },
   "outputs": [
    {
     "data": {
      "text/plain": [
       "array([nan, '21plus', 'allages', '19plus', '18plus'], dtype=object)"
      ]
     },
     "execution_count": 2,
     "metadata": {},
     "output_type": "execute_result"
    }
   ],
   "source": [
    "bd_full = pd.read_csv('data/business.csv')\n",
    "bd_full['attributes_AgesAllowed'].unique()"
   ]
  },
  {
   "cell_type": "code",
   "execution_count": 3,
   "metadata": {
    "hidden": true,
    "scrolled": true
   },
   "outputs": [
    {
     "name": "stdout",
     "output_type": "stream",
     "text": [
      "========== Feature 'attributes_AgesAllowed' ==========\n",
      "TYPE: string. Doing one-hot encoding.\n",
      "\n",
      "========== Feature 'attributes_GoodForKids' ==========\n",
      "TYPE: boolean. Changing False -> 0, True -> 1.\n",
      "Detected NaN in column. Replacing with mean of non-NaN values.\n",
      "\n",
      "========== Feature 'attributes_OutdoorSeating' ==========\n",
      "TYPE: boolean. Changing False -> 0, True -> 1.\n",
      "Detected NaN in column. Replacing with mean of non-NaN values.\n",
      "\n",
      "========== Feature 'attributes_RestaurantsDelivery' ==========\n",
      "TYPE: boolean. Changing False -> 0, True -> 1.\n",
      "Detected NaN in column. Replacing with mean of non-NaN values.\n",
      "\n",
      "========== Feature 'attributes_RestaurantsGoodForGroups' ==========\n",
      "TYPE: boolean. Changing False -> 0, True -> 1.\n",
      "Detected NaN in column. Replacing with mean of non-NaN values.\n",
      "\n",
      "========== Feature 'attributes_RestaurantsPriceRange2' ==========\n",
      "TYPE: numeric.\n",
      "Detected NaN in column. Replacing with mean of non-NaN values.\n",
      "\n",
      "========== Feature 'attributes_RestaurantsReservations' ==========\n",
      "TYPE: boolean. Changing False -> 0, True -> 1.\n",
      "Detected NaN in column. Replacing with mean of non-NaN values.\n",
      "\n",
      "========== Feature 'attributes_WiFi' ==========\n",
      "TYPE: string. Doing one-hot encoding.\n",
      "\n",
      "Constructing design matrix now.\n",
      "0/150232 done\n",
      "20000/150232 done\n",
      "40000/150232 done\n",
      "60000/150232 done\n",
      "80000/150232 done\n",
      "100000/150232 done\n",
      "120000/150232 done\n",
      "140000/150232 done\n",
      "Finished!\n",
      "Constructing design matrix now.\n",
      "0/50077 done\n",
      "20000/50077 done\n",
      "40000/50077 done\n",
      "Finished!\n"
     ]
    },
    {
     "data": {
      "text/html": [
       "<div>\n",
       "<style scoped>\n",
       "    .dataframe tbody tr th:only-of-type {\n",
       "        vertical-align: middle;\n",
       "    }\n",
       "\n",
       "    .dataframe tbody tr th {\n",
       "        vertical-align: top;\n",
       "    }\n",
       "\n",
       "    .dataframe thead th {\n",
       "        text-align: right;\n",
       "    }\n",
       "</style>\n",
       "<table border=\"1\" class=\"dataframe\">\n",
       "  <thead>\n",
       "    <tr style=\"text-align: right;\">\n",
       "      <th></th>\n",
       "      <th>attributes_GoodForKids</th>\n",
       "      <th>attributes_OutdoorSeating</th>\n",
       "      <th>attributes_RestaurantsDelivery</th>\n",
       "      <th>attributes_RestaurantsGoodForGroups</th>\n",
       "      <th>attributes_RestaurantsPriceRange2</th>\n",
       "      <th>attributes_RestaurantsReservations</th>\n",
       "      <th>stars</th>\n",
       "      <th>attributes_AgesAllowedNAN</th>\n",
       "      <th>attributes_AgesAllowed21PLUS</th>\n",
       "      <th>attributes_AgesAllowedALLAGES</th>\n",
       "      <th>attributes_AgesAllowed19PLUS</th>\n",
       "      <th>attributes_AgesAllowed18PLUS</th>\n",
       "      <th>attributes_WiFiNO</th>\n",
       "      <th>attributes_WiFiFREE</th>\n",
       "      <th>attributes_WiFiNAN</th>\n",
       "      <th>attributes_WiFiPAID</th>\n",
       "    </tr>\n",
       "    <tr>\n",
       "      <th>business_id</th>\n",
       "      <th></th>\n",
       "      <th></th>\n",
       "      <th></th>\n",
       "      <th></th>\n",
       "      <th></th>\n",
       "      <th></th>\n",
       "      <th></th>\n",
       "      <th></th>\n",
       "      <th></th>\n",
       "      <th></th>\n",
       "      <th></th>\n",
       "      <th></th>\n",
       "      <th></th>\n",
       "      <th></th>\n",
       "      <th></th>\n",
       "      <th></th>\n",
       "    </tr>\n",
       "  </thead>\n",
       "  <tbody>\n",
       "    <tr>\n",
       "      <th>KuxDPl6UYNLxFChPm0_MNw</th>\n",
       "      <td>0.0</td>\n",
       "      <td>1.0</td>\n",
       "      <td>0.0</td>\n",
       "      <td>1.0</td>\n",
       "      <td>2.0</td>\n",
       "      <td>1.0</td>\n",
       "      <td>4.0</td>\n",
       "      <td>1.0</td>\n",
       "      <td>1.0</td>\n",
       "      <td>1.0</td>\n",
       "      <td>1.0</td>\n",
       "      <td>1.0</td>\n",
       "      <td>1.0</td>\n",
       "      <td>0.0</td>\n",
       "      <td>0.0</td>\n",
       "      <td>0.0</td>\n",
       "    </tr>\n",
       "    <tr>\n",
       "      <th>6SAfQKe2oM5g_EtcYXyAMg</th>\n",
       "      <td>1.0</td>\n",
       "      <td>1.0</td>\n",
       "      <td>0.0</td>\n",
       "      <td>1.0</td>\n",
       "      <td>1.0</td>\n",
       "      <td>0.0</td>\n",
       "      <td>4.0</td>\n",
       "      <td>1.0</td>\n",
       "      <td>1.0</td>\n",
       "      <td>1.0</td>\n",
       "      <td>1.0</td>\n",
       "      <td>1.0</td>\n",
       "      <td>1.0</td>\n",
       "      <td>0.0</td>\n",
       "      <td>0.0</td>\n",
       "      <td>0.0</td>\n",
       "    </tr>\n",
       "    <tr>\n",
       "      <th>upB0RQl-l529IVwgOpwOQQ</th>\n",
       "      <td>0.0</td>\n",
       "      <td>1.0</td>\n",
       "      <td>0.0</td>\n",
       "      <td>1.0</td>\n",
       "      <td>1.0</td>\n",
       "      <td>0.0</td>\n",
       "      <td>4.5</td>\n",
       "      <td>1.0</td>\n",
       "      <td>1.0</td>\n",
       "      <td>1.0</td>\n",
       "      <td>1.0</td>\n",
       "      <td>1.0</td>\n",
       "      <td>1.0</td>\n",
       "      <td>0.0</td>\n",
       "      <td>0.0</td>\n",
       "      <td>0.0</td>\n",
       "    </tr>\n",
       "    <tr>\n",
       "      <th>TulmRC5V0--dnXYd_GOSvA</th>\n",
       "      <td>1.0</td>\n",
       "      <td>0.0</td>\n",
       "      <td>0.0</td>\n",
       "      <td>1.0</td>\n",
       "      <td>2.0</td>\n",
       "      <td>0.0</td>\n",
       "      <td>4.0</td>\n",
       "      <td>1.0</td>\n",
       "      <td>1.0</td>\n",
       "      <td>1.0</td>\n",
       "      <td>1.0</td>\n",
       "      <td>1.0</td>\n",
       "      <td>1.0</td>\n",
       "      <td>0.0</td>\n",
       "      <td>0.0</td>\n",
       "      <td>0.0</td>\n",
       "    </tr>\n",
       "    <tr>\n",
       "      <th>yqYtY3-Po4OVPafA9Z-Xyw</th>\n",
       "      <td>1.0</td>\n",
       "      <td>0.0</td>\n",
       "      <td>0.0</td>\n",
       "      <td>1.0</td>\n",
       "      <td>2.0</td>\n",
       "      <td>1.0</td>\n",
       "      <td>3.5</td>\n",
       "      <td>1.0</td>\n",
       "      <td>1.0</td>\n",
       "      <td>1.0</td>\n",
       "      <td>1.0</td>\n",
       "      <td>1.0</td>\n",
       "      <td>0.0</td>\n",
       "      <td>1.0</td>\n",
       "      <td>0.0</td>\n",
       "      <td>0.0</td>\n",
       "    </tr>\n",
       "  </tbody>\n",
       "</table>\n",
       "</div>"
      ],
      "text/plain": [
       "                        attributes_GoodForKids  attributes_OutdoorSeating  \\\n",
       "business_id                                                                 \n",
       "KuxDPl6UYNLxFChPm0_MNw                     0.0                        1.0   \n",
       "6SAfQKe2oM5g_EtcYXyAMg                     1.0                        1.0   \n",
       "upB0RQl-l529IVwgOpwOQQ                     0.0                        1.0   \n",
       "TulmRC5V0--dnXYd_GOSvA                     1.0                        0.0   \n",
       "yqYtY3-Po4OVPafA9Z-Xyw                     1.0                        0.0   \n",
       "\n",
       "                        attributes_RestaurantsDelivery  \\\n",
       "business_id                                              \n",
       "KuxDPl6UYNLxFChPm0_MNw                             0.0   \n",
       "6SAfQKe2oM5g_EtcYXyAMg                             0.0   \n",
       "upB0RQl-l529IVwgOpwOQQ                             0.0   \n",
       "TulmRC5V0--dnXYd_GOSvA                             0.0   \n",
       "yqYtY3-Po4OVPafA9Z-Xyw                             0.0   \n",
       "\n",
       "                        attributes_RestaurantsGoodForGroups  \\\n",
       "business_id                                                   \n",
       "KuxDPl6UYNLxFChPm0_MNw                                  1.0   \n",
       "6SAfQKe2oM5g_EtcYXyAMg                                  1.0   \n",
       "upB0RQl-l529IVwgOpwOQQ                                  1.0   \n",
       "TulmRC5V0--dnXYd_GOSvA                                  1.0   \n",
       "yqYtY3-Po4OVPafA9Z-Xyw                                  1.0   \n",
       "\n",
       "                        attributes_RestaurantsPriceRange2  \\\n",
       "business_id                                                 \n",
       "KuxDPl6UYNLxFChPm0_MNw                                2.0   \n",
       "6SAfQKe2oM5g_EtcYXyAMg                                1.0   \n",
       "upB0RQl-l529IVwgOpwOQQ                                1.0   \n",
       "TulmRC5V0--dnXYd_GOSvA                                2.0   \n",
       "yqYtY3-Po4OVPafA9Z-Xyw                                2.0   \n",
       "\n",
       "                        attributes_RestaurantsReservations  stars  \\\n",
       "business_id                                                         \n",
       "KuxDPl6UYNLxFChPm0_MNw                                 1.0    4.0   \n",
       "6SAfQKe2oM5g_EtcYXyAMg                                 0.0    4.0   \n",
       "upB0RQl-l529IVwgOpwOQQ                                 0.0    4.5   \n",
       "TulmRC5V0--dnXYd_GOSvA                                 0.0    4.0   \n",
       "yqYtY3-Po4OVPafA9Z-Xyw                                 1.0    3.5   \n",
       "\n",
       "                        attributes_AgesAllowedNAN  \\\n",
       "business_id                                         \n",
       "KuxDPl6UYNLxFChPm0_MNw                        1.0   \n",
       "6SAfQKe2oM5g_EtcYXyAMg                        1.0   \n",
       "upB0RQl-l529IVwgOpwOQQ                        1.0   \n",
       "TulmRC5V0--dnXYd_GOSvA                        1.0   \n",
       "yqYtY3-Po4OVPafA9Z-Xyw                        1.0   \n",
       "\n",
       "                        attributes_AgesAllowed21PLUS  \\\n",
       "business_id                                            \n",
       "KuxDPl6UYNLxFChPm0_MNw                           1.0   \n",
       "6SAfQKe2oM5g_EtcYXyAMg                           1.0   \n",
       "upB0RQl-l529IVwgOpwOQQ                           1.0   \n",
       "TulmRC5V0--dnXYd_GOSvA                           1.0   \n",
       "yqYtY3-Po4OVPafA9Z-Xyw                           1.0   \n",
       "\n",
       "                        attributes_AgesAllowedALLAGES  \\\n",
       "business_id                                             \n",
       "KuxDPl6UYNLxFChPm0_MNw                            1.0   \n",
       "6SAfQKe2oM5g_EtcYXyAMg                            1.0   \n",
       "upB0RQl-l529IVwgOpwOQQ                            1.0   \n",
       "TulmRC5V0--dnXYd_GOSvA                            1.0   \n",
       "yqYtY3-Po4OVPafA9Z-Xyw                            1.0   \n",
       "\n",
       "                        attributes_AgesAllowed19PLUS  \\\n",
       "business_id                                            \n",
       "KuxDPl6UYNLxFChPm0_MNw                           1.0   \n",
       "6SAfQKe2oM5g_EtcYXyAMg                           1.0   \n",
       "upB0RQl-l529IVwgOpwOQQ                           1.0   \n",
       "TulmRC5V0--dnXYd_GOSvA                           1.0   \n",
       "yqYtY3-Po4OVPafA9Z-Xyw                           1.0   \n",
       "\n",
       "                        attributes_AgesAllowed18PLUS  attributes_WiFiNO  \\\n",
       "business_id                                                               \n",
       "KuxDPl6UYNLxFChPm0_MNw                           1.0                1.0   \n",
       "6SAfQKe2oM5g_EtcYXyAMg                           1.0                1.0   \n",
       "upB0RQl-l529IVwgOpwOQQ                           1.0                1.0   \n",
       "TulmRC5V0--dnXYd_GOSvA                           1.0                1.0   \n",
       "yqYtY3-Po4OVPafA9Z-Xyw                           1.0                0.0   \n",
       "\n",
       "                        attributes_WiFiFREE  attributes_WiFiNAN  \\\n",
       "business_id                                                       \n",
       "KuxDPl6UYNLxFChPm0_MNw                  0.0                 0.0   \n",
       "6SAfQKe2oM5g_EtcYXyAMg                  0.0                 0.0   \n",
       "upB0RQl-l529IVwgOpwOQQ                  0.0                 0.0   \n",
       "TulmRC5V0--dnXYd_GOSvA                  0.0                 0.0   \n",
       "yqYtY3-Po4OVPafA9Z-Xyw                  1.0                 0.0   \n",
       "\n",
       "                        attributes_WiFiPAID  \n",
       "business_id                                  \n",
       "KuxDPl6UYNLxFChPm0_MNw                  0.0  \n",
       "6SAfQKe2oM5g_EtcYXyAMg                  0.0  \n",
       "upB0RQl-l529IVwgOpwOQQ                  0.0  \n",
       "TulmRC5V0--dnXYd_GOSvA                  0.0  \n",
       "yqYtY3-Po4OVPafA9Z-Xyw                  0.0  "
      ]
     },
     "execution_count": 3,
     "metadata": {},
     "output_type": "execute_result"
    }
   ],
   "source": [
    "b_data, u_data, reviews = get_training_data(verbose=True)\n",
    "v_queries = get_validation_reviews()\n",
    "\n",
    "X, y = construct_design_matrix(b_data, u_data, reviews, verbose=True)\n",
    "X_valid, y_valid = construct_design_matrix(b_data, u_data, v_queries, verbose=True)\n",
    "\n",
    "\n",
    "b_data.head()"
   ]
  },
  {
   "cell_type": "code",
   "execution_count": 4,
   "metadata": {},
   "outputs": [
    {
     "name": "stdout",
     "output_type": "stream",
     "text": [
      "Constructing test feature-matrix now.\n",
      "0/50078 done\n",
      "10000/50078 done\n",
      "20000/50078 done\n",
      "30000/50078 done\n",
      "40000/50078 done\n",
      "50000/50078 done\n",
      "Finished!\n"
     ]
    }
   ],
   "source": [
    "X_test = construct_test_matrix(b_data, u_data, verbose=True)"
   ]
  },
  {
   "cell_type": "markdown",
   "metadata": {
    "heading_collapsed": true
   },
   "source": [
    "# Preprocessing / dimensionality reduction"
   ]
  },
  {
   "cell_type": "code",
   "execution_count": 5,
   "metadata": {
    "hidden": true
   },
   "outputs": [
    {
     "data": {
      "image/png": "[encoded data removed]",
      "text/plain": [
       "<Figure size 864x576 with 1 Axes>"
      ]
     },
     "metadata": {
      "needs_background": "light"
     },
     "output_type": "display_data"
    },
    {
     "name": "stdout",
     "output_type": "stream",
     "text": [
      "Using 10 components - 0.999978 of variance explained.\n"
     ]
    }
   ],
   "source": [
    "X_n = normalize_columns(X)\n",
    "X_valid_n = normalize_columns(X_valid)\n",
    "\n",
    "Z = get_PCA_matrix(X, n_components=10, plot_expl_variance=True, verbose=True)\n",
    "X_pca = np.dot(X, Z.T)\n",
    "X_valid_pca = np.dot(X_valid, Z.T)"
   ]
  },
  {
   "cell_type": "markdown",
   "metadata": {},
   "source": [
    "# Hyperparameter Tuning"
   ]
  },
  {
   "cell_type": "code",
   "execution_count": 20,
   "metadata": {},
   "outputs": [],
   "source": [
    "results = dict()\n",
    "\n",
    "def rmse(y1, y2):\n",
    "    return np.sqrt(np.mean((y1-y2)**2))"
   ]
  },
  {
   "cell_type": "code",
   "execution_count": 21,
   "metadata": {},
   "outputs": [],
   "source": [
    "X_scaled = StandardScaler().fit_transform(X)\n",
    "X_valid_scaled = StandardScaler().fit_transform(X_valid)"
   ]
  },
  {
   "cell_type": "code",
   "execution_count": 26,
   "metadata": {},
   "outputs": [
    {
     "name": "stdout",
     "output_type": "stream",
     "text": [
      "1.3814973034755047  <- Training RMSE with C=0.01\n",
      "1.5334401795545274  <- Validation RMSE with C=0.01\n",
      "1.3814973034755047  <- Training RMSE with C=0.1\n",
      "1.5334401795545274  <- Validation RMSE with C=0.1\n",
      "1.3814973034755047  <- Training RMSE with C=0.25\n",
      "1.5334401795545274  <- Validation RMSE with C=0.25\n",
      "1.3814973034755047  <- Training RMSE with C=0.5\n",
      "1.5334401795545274  <- Validation RMSE with C=0.5\n",
      "1.3814973034755047  <- Training RMSE with C=0.75\n",
      "1.5334401795545274  <- Validation RMSE with C=0.75\n",
      "1.3814973034755047  <- Training RMSE with C=1.0\n",
      "1.5334401795545274  <- Validation RMSE with C=1.0\n",
      "1.3814973034755047  <- Training RMSE with C=1.5\n",
      "1.5334401795545274  <- Validation RMSE with C=1.5\n",
      "1.3814973034755047  <- Training RMSE with C=2.0\n",
      "1.5334401795545274  <- Validation RMSE with C=2.0\n",
      "1.3814973034755047  <- Training RMSE with C=3.0\n",
      "1.5334401795545274  <- Validation RMSE with C=3.0\n",
      "1.3814973034755047  <- Training RMSE with C=8.0\n",
      "1.5334401795545274  <- Validation RMSE with C=8.0\n",
      "Optimal penalty constant of 0.01 found\n"
     ]
    }
   ],
   "source": [
    "min_validation_mse = (float('inf'), 0.1)\n",
    "for penalty_constant in [0.01, 0.1, 0.25, 0.5, 0.75, 1.0, 1.5, 2.0, 3.0, 8.0]:\n",
    "    clf = RBFSVR(C=penalty_constant,\n",
    "                 gamma='scale',\n",
    "                 tol=5,\n",
    "                 max_iter=15000)\n",
    "    clf.fit(X_scaled, y)\n",
    "\n",
    "    \n",
    "    # training error\n",
    "    y_pred_train = clf.predict(X_scaled)\n",
    "    y_pred_train = format_output(y_pred_train)\n",
    "    mse_train = rmse(y, y_pred_train)\n",
    "    print('{}  <- Training RMSE with C={}'.format(mse_train, penalty_constant))\n",
    "\n",
    "    # validation error\n",
    "    y_pred_valid = clf.predict(X_valid_scaled)\n",
    "    mse_valid = rmse(y_valid, y_pred_valid)\n",
    "    print('{}  <- Validation RMSE with C={}'.format(mse_valid, penalty_constant))\n",
    "    if mse_valid < min_validation_mse[0]:\n",
    "        min_validation_mse = (mse_valid, penalty_constant)\n",
    "opt_penalty = min_validation_mse[1]\n",
    "print(\"Optimal penalty constant of {} found\".format(opt_penalty))"
   ]
  },
  {
   "cell_type": "code",
   "execution_count": 7,
   "metadata": {},
   "outputs": [
    {
     "name": "stdout",
     "output_type": "stream",
     "text": [
      "\n",
      "1.2326515924406853  <- Training RMSE with C=0.1\n",
      "1.2726294974617605  <- Validation RMSE with C=0.1\n",
      "\n",
      "1.233501805982615  <- Training RMSE with C=0.25\n",
      "1.2750828256364999  <- Validation RMSE with C=0.25\n",
      "\n",
      "1.2300974259379258  <- Training RMSE with C=0.5\n",
      "1.2746207383527761  <- Validation RMSE with C=0.5\n",
      "\n",
      "1.2312711084569885  <- Training RMSE with C=0.75\n",
      "1.277890907720634  <- Validation RMSE with C=0.75\n",
      "\n",
      "1.232656992471756  <- Training RMSE with C=1.0\n",
      "1.2727157968418255  <- Validation RMSE with C=1.0\n",
      "\n",
      "1.2263661173454  <- Training RMSE with C=1.5\n",
      "1.2667709929293725  <- Validation RMSE with C=1.5\n",
      "\n",
      "1.2245111481945867  <- Training RMSE with C=2.0\n",
      "1.2686061576241583  <- Validation RMSE with C=2.0\n",
      "\n",
      "1.2300351949253723  <- Training RMSE with C=3.0\n",
      "1.2707922859097593  <- Validation RMSE with C=3.0\n",
      "\n",
      "1.2270850794524022  <- Training RMSE with C=8.0\n",
      "1.2686848606472458  <- Validation RMSE with C=8.0\n",
      "Optimal penalty constant of 1.5 found\n"
     ]
    }
   ],
   "source": [
    "min_validation_mse = (float('inf'), 0.1)\n",
    "for penalty_constant in [0.1, 0.25, 0.5, 0.75, 1.0, 1.5, 2.0, 3.0, 8.0]:\n",
    "    clf = SupportVectorClf(penalty='l2', \n",
    "                           loss='squared_hinge', \n",
    "                           dual=False, \n",
    "                           C=penalty_constant,\n",
    "                           max_iter=4000)\n",
    "    clf.fit(X, y)\n",
    "\n",
    "    print('')\n",
    "    # training error\n",
    "    y_pred_train = clf.predict(X)\n",
    "    mse_train = rmse(y, y_pred_train)\n",
    "    print('{}  <- Training RMSE with C={}'.format(mse_train, penalty_constant))\n",
    "\n",
    "    # validation error\n",
    "    y_pred_valid = clf.predict(X_valid)\n",
    "  mse_valid = rmse(y_valid, y_pred_valid)\n",
    "    print('{}  <- Validation RMSE with C={}'.format(mse_valid, penalty_constant))\n",
    "    if mse_valid < min_validation_mse[0]:\n",
    "        min_validation_mse = (mse_valid, penalty_constant)\n",
    "opt_penalty = min_validation_mse[1]\n",
    "print(\"Optimal penalty constant of {} found\".format(opt_penalty))"
   ]
  },
  {
   "cell_type": "markdown",
   "metadata": {},
   "source": [
    "# Test data output"
   ]
  },
  {
   "cell_type": "code",
   "execution_count": 7,
   "metadata": {},
   "outputs": [
    {
     "name": "stderr",
     "output_type": "stream",
     "text": [
      "/Users/Lucas/Documents/CS145/cs145_course_project/.env/lib/python3.6/site-packages/sklearn/svm/base.py:244: ConvergenceWarning: Solver terminated early (max_iter=20000).  Consider pre-processing your data with StandardScaler or MinMaxScaler.\n",
      "  % self.max_iter, ConvergenceWarning)\n"
     ]
    },
    {
     "name": "stdout",
     "output_type": "stream",
     "text": [
      "wrote output\n"
     ]
    }
   ],
   "source": [
    "clf_svr = RBFSVR(gamma='scale', max_iter=20000)\n",
    "clf_svr.fit(X, y)\n",
    "y_svr_test = clf_svr.predict(X_test)\n",
    "y_svr_cleaned = format_output(y_svr_test)\n",
    "write_output(y_svr_cleaned, 'svr')\n",
    "print(\"wrote output\")"
   ]
  },
  {
   "cell_type": "code",
   "execution_count": null,
   "metadata": {},
   "outputs": [],
   "source": [
    "clf = SupportVectorClf(penalty='l2', \n",
    "                       loss='squared_hinge', \n",
    "                       dual=False, \n",
    "                       C=opt_penalty,\n",
    "                       max_iter=15000)\n",
    "clf.fit(X, y)\n",
    "y_test = clf.predict(X_test)\n",
    "y_cleaned = format_output(y_test)\n",
    "write_output(y_cleaned, 'svm_optimal_c')\n",
    "print(\"wrote output\")"
   ]
  },
  {
   "cell_type": "markdown",
   "metadata": {},
   "source": [
    "# Normalized/PCA'd Calculations"
   ]
  },
  {
   "cell_type": "code",
   "execution_count": 12,
   "metadata": {},
   "outputs": [
    {
     "name": "stdout",
     "output_type": "stream",
     "text": [
      "1.209357  <- Training RMSE (norm)\n",
      "1.238031  <- Validation RMSE (norm)\n"
     ]
    }
   ],
   "source": [
    "# Do calculations with normalized columns\n",
    "clf_n = SupportVectorClf(penalty='l2', \n",
    "                       loss='squared_hinge', \n",
    "                       dual=False, \n",
    "                       C=opt_penalty,\n",
    "                       max_iter=4000)\n",
    "clf_n.fit(X_n, y)\n",
    "\n",
    "# training error (normalized columns)\n",
    "y_pred_train_norm = clf_n.predict(X_n)\n",
    "mse_train_norm = rmse(y, y_pred_train_norm)\n",
    "print('%f  <- Training RMSE (norm)' % mse_train_norm)\n",
    "\n",
    "# validation error (normalized columns)\n",
    "y_pred_valid_norm = clf_n.predict(X_valid_n)\n",
    "mse_valid_norm = rmse(y_valid, y_pred_valid_norm)\n",
    "print('%f  <- Validation RMSE (norm)' % mse_valid_norm)"
   ]
  },
  {
   "cell_type": "code",
   "execution_count": 13,
   "metadata": {},
   "outputs": [
    {
     "name": "stdout",
     "output_type": "stream",
     "text": [
      "wrote output\n"
     ]
    }
   ],
   "source": [
    "y_n_test = clf_n.predict(X_test)\n",
    "y_n_cleaned = format_output(y_test)\n",
    "write_output(y_n_cleaned, 'svm_optimal_c_normalized')\n",
    "print(\"wrote output\")"
   ]
  },
  {
   "cell_type": "code",
   "execution_count": 14,
   "metadata": {},
   "outputs": [
    {
     "name": "stdout",
     "output_type": "stream",
     "text": [
      "1.422087  <- Training RMSE (PCA)\n",
      "1.561987  <- Validation RMSE (PCA)\n"
     ]
    }
   ],
   "source": [
    "clf_pca = SupportVectorClf(penalty='l2', \n",
    "                       loss='squared_hinge', \n",
    "                       dual=False, \n",
    "                       C=opt_penalty,\n",
    "                       max_iter=10000)\n",
    "clf_pca.fit(X_pca, y)\n",
    "\n",
    "# training error (PCA)\n",
    "y_pred_train_pca = clf_pca.predict(X_pca)\n",
    "mse_train_pca = rmse(y, y_pred_train_pca)\n",
    "print('%f  <- Training RMSE (PCA)' % mse_train_pca)\n",
    "\n",
    "\n",
    "# validation error (PCA)\n",
    "y_pred_valid_pca = clf_pca.predict(X_valid_pca)\n",
    "mse_valid_pca = rmse(y_valid, y_pred_valid_pca)\n",
    "print('%f  <- Validation RMSE (PCA)' % mse_valid_pca)"
   ]
  },
  {
   "cell_type": "code",
   "execution_count": 17,
   "metadata": {},
   "outputs": [
    {
     "data": {
      "image/png": "[encoded data removed]",
      "text/plain": [
       "<Figure size 864x576 with 1 Axes>"
      ]
     },
     "metadata": {
      "needs_background": "light"
     },
     "output_type": "display_data"
    },
    {
     "name": "stdout",
     "output_type": "stream",
     "text": [
      "Using 10 components - 0.999983 of variance explained.\n",
      "wrote output\n"
     ]
    }
   ],
   "source": [
    "Z = get_PCA_matrix(X_test, n_components=10, plot_expl_variance=True, verbose=True)\n",
    "X_pca_test = np.dot(X_test, Z.T)\n",
    "y_pca_test = clf_pca.predict(X_pca_test)\n",
    "y_pca_cleaned = format_output(y_pca_test)\n",
    "write_output(y_pca_cleaned, 'svm_optimal_c_pca')\n",
    "print(\"wrote output\")"
   ]
  }
 ],
 "metadata": {
  "kernelspec": {
   "display_name": "Python 3",
   "language": "python",
   "name": "python3"
  },
  "language_info": {
   "codemirror_mode": {
    "name": "ipython",
    "version": 3
   },
   "file_extension": ".py",
   "mimetype": "text/x-python",
   "name": "python",
   "nbconvert_exporter": "python",
   "pygments_lexer": "ipython3",
   "version": "3.6.3"
  },
  "varInspector": {
   "cols": {
    "lenName": 16,
    "lenType": 16,
    "lenVar": 40
   },
   "kernels_config": {
    "python": {
     "delete_cmd_postfix": "",
     "delete_cmd_prefix": "del ",
     "library": "var_list.py",
     "varRefreshCmd": "print(var_dic_list())"
    },
    "r": {
     "delete_cmd_postfix": ") ",
     "delete_cmd_prefix": "rm(",
     "library": "var_list.r",
     "varRefreshCmd": "cat(var_dic_list()) "
    }
   },
   "types_to_exclude": [
    "module",
    "function",
    "builtin_function_or_method",
    "instance",
    "_Feature"
   ],
   "window_display": false
  }
 },
 "nbformat": 4,
 "nbformat_minor": 2
}

{
 "cells": [
  {
   "cell_type": "markdown",
   "metadata": {
    "heading_collapsed": true
   },
   "source": [
    "# Imports"
   ]
  },
  {
   "cell_type": "code",
   "execution_count": 24,
   "metadata": {
    "hidden": true
   },
   "outputs": [
    {
     "name": "stdout",
     "output_type": "stream",
     "text": [
      "The autoreload extension is already loaded. To reload it, use:\n",
      "  %reload_ext autoreload\n"
     ]
    }
   ],
   "source": [
    "import pandas as pd\n",
    "import numpy as np\n",
    "import matplotlib.pyplot as plt\n",
    "from IPython.display import clear_output\n",
    "from sklearn.svm import LinearSVC as SupportVectorClf\n",
    "from src.get_data import *\n",
    "from src.preprocessing import *\n",
    "from src.create_output import *\n",
    "\n",
    "%load_ext autoreload\n",
    "%autoreload 2"
   ]
  },
  {
   "cell_type": "markdown",
   "metadata": {
    "heading_collapsed": true
   },
   "source": [
    "# Load data"
   ]
  },
  {
   "cell_type": "code",
   "execution_count": 25,
   "metadata": {
    "hidden": true
   },
   "outputs": [
    {
     "data": {
      "text/plain": [
       "array([nan, '21plus', 'allages', '19plus', '18plus'], dtype=object)"
      ]
     },
     "execution_count": 25,
     "metadata": {},
     "output_type": "execute_result"
    }
   ],
   "source": [
    "bd_full = pd.read_csv('data/business.csv')\n",
    "bd_full['attributes_AgesAllowed'].unique()"
   ]
  },
  {
   "cell_type": "code",
   "execution_count": 26,
   "metadata": {
    "hidden": true,
    "scrolled": true
   },
   "outputs": [
    {
     "name": "stdout",
     "output_type": "stream",
     "text": [
      "========== Feature 'attributes_AgesAllowed' ==========\n",
      "TYPE: string. Doing one-hot encoding.\n",
      "\n",
      "========== Feature 'attributes_GoodForKids' ==========\n",
      "TYPE: boolean. Changing False -> 0, True -> 1.\n",
      "Detected NaN in column. Replacing with mean of non-NaN values.\n",
      "\n",
      "========== Feature 'attributes_OutdoorSeating' ==========\n",
      "TYPE: boolean. Changing False -> 0, True -> 1.\n",
      "Detected NaN in column. Replacing with mean of non-NaN values.\n",
      "\n",
      "========== Feature 'attributes_RestaurantsDelivery' ==========\n",
      "TYPE: boolean. Changing False -> 0, True -> 1.\n",
      "Detected NaN in column. Replacing with mean of non-NaN values.\n",
      "\n",
      "========== Feature 'attributes_RestaurantsGoodForGroups' ==========\n",
      "TYPE: boolean. Changing False -> 0, True -> 1.\n",
      "Detected NaN in column. Replacing with mean of non-NaN values.\n",
      "\n",
      "========== Feature 'attributes_RestaurantsPriceRange2' ==========\n",
      "TYPE: numeric.\n",
      "Detected NaN in column. Replacing with mean of non-NaN values.\n",
      "\n",
      "========== Feature 'attributes_RestaurantsReservations' ==========\n",
      "TYPE: boolean. Changing False -> 0, True -> 1.\n",
      "Detected NaN in column. Replacing with mean of non-NaN values.\n",
      "\n",
      "========== Feature 'attributes_WiFi' ==========\n",
      "TYPE: string. Doing one-hot encoding.\n",
      "\n",
      "Constructing design matrix now.\n",
      "0/150232 done\n",
      "20000/150232 done\n",
      "40000/150232 done\n",
      "60000/150232 done\n",
      "80000/150232 done\n",
      "100000/150232 done\n",
      "120000/150232 done\n",
      "140000/150232 done\n",
      "Finished!\n",
      "Constructing design matrix now.\n",
      "0/50077 done\n",
      "20000/50077 done\n",
      "40000/50077 done\n",
      "Finished!\n",
      "Constructing test feature-matrix now.\n"
     ]
    },
    {
     "ename": "NameError",
     "evalue": "name 'queries' is not defined",
     "output_type": "error",
     "traceback": [
      "\u001b[0;31m---------------------------------------------------------------------------\u001b[0m",
      "\u001b[0;31mNameError\u001b[0m                                 Traceback (most recent call last)",
      "\u001b[0;32m<ipython-input-26-ff70b0332617>\u001b[0m in \u001b[0;36m<module>\u001b[0;34m\u001b[0m\n\u001b[1;32m      5\u001b[0m \u001b[0mX_valid\u001b[0m\u001b[0;34m,\u001b[0m \u001b[0my_valid\u001b[0m \u001b[0;34m=\u001b[0m \u001b[0mconstruct_design_matrix\u001b[0m\u001b[0;34m(\u001b[0m\u001b[0mb_data\u001b[0m\u001b[0;34m,\u001b[0m \u001b[0mu_data\u001b[0m\u001b[0;34m,\u001b[0m \u001b[0mv_queries\u001b[0m\u001b[0;34m,\u001b[0m \u001b[0mverbose\u001b[0m\u001b[0;34m=\u001b[0m\u001b[0;32mTrue\u001b[0m\u001b[0;34m)\u001b[0m\u001b[0;34m\u001b[0m\u001b[0m\n\u001b[1;32m      6\u001b[0m \u001b[0;34m\u001b[0m\u001b[0m\n\u001b[0;32m----> 7\u001b[0;31m \u001b[0mX_test\u001b[0m \u001b[0;34m=\u001b[0m \u001b[0mconstruct_test_matrix\u001b[0m\u001b[0;34m(\u001b[0m\u001b[0mb_data\u001b[0m\u001b[0;34m,\u001b[0m \u001b[0mu_data\u001b[0m\u001b[0;34m,\u001b[0m \u001b[0mverbose\u001b[0m\u001b[0;34m=\u001b[0m\u001b[0;32mTrue\u001b[0m\u001b[0;34m)\u001b[0m\u001b[0;34m\u001b[0m\u001b[0m\n\u001b[0m\u001b[1;32m      8\u001b[0m \u001b[0mb_data\u001b[0m\u001b[0;34m.\u001b[0m\u001b[0mhead\u001b[0m\u001b[0;34m(\u001b[0m\u001b[0;34m)\u001b[0m\u001b[0;34m\u001b[0m\u001b[0m\n",
      "\u001b[0;32m~/Documents/CS145/cs145_course_project/src/get_data.py\u001b[0m in \u001b[0;36mconstruct_test_matrix\u001b[0;34m(business_data, user_data, verbose)\u001b[0m\n\u001b[1;32m    319\u001b[0m         \u001b[0mprint\u001b[0m\u001b[0;34m(\u001b[0m\u001b[0;34m'Constructing test feature-matrix now.'\u001b[0m\u001b[0;34m)\u001b[0m\u001b[0;34m\u001b[0m\u001b[0m\n\u001b[1;32m    320\u001b[0m \u001b[0;34m\u001b[0m\u001b[0m\n\u001b[0;32m--> 321\u001b[0;31m     \u001b[0;32mfor\u001b[0m \u001b[0mi\u001b[0m\u001b[0;34m,\u001b[0m \u001b[0mquery\u001b[0m \u001b[0;32min\u001b[0m \u001b[0mqueries\u001b[0m\u001b[0;34m.\u001b[0m\u001b[0miterrows\u001b[0m\u001b[0;34m(\u001b[0m\u001b[0;34m)\u001b[0m\u001b[0;34m:\u001b[0m\u001b[0;34m\u001b[0m\u001b[0m\n\u001b[0m\u001b[1;32m    322\u001b[0m         \u001b[0;32mif\u001b[0m \u001b[0mverbose\u001b[0m \u001b[0;32mand\u001b[0m \u001b[0;34m(\u001b[0m\u001b[0mi\u001b[0m \u001b[0;34m%\u001b[0m \u001b[0;36m10000\u001b[0m\u001b[0;34m)\u001b[0m \u001b[0;34m==\u001b[0m \u001b[0;36m0\u001b[0m\u001b[0;34m:\u001b[0m\u001b[0;34m\u001b[0m\u001b[0m\n\u001b[1;32m    323\u001b[0m             \u001b[0mprint\u001b[0m\u001b[0;34m(\u001b[0m\u001b[0;34m'{}/{} done'\u001b[0m\u001b[0;34m.\u001b[0m\u001b[0mformat\u001b[0m\u001b[0;34m(\u001b[0m\u001b[0mi\u001b[0m\u001b[0;34m,\u001b[0m \u001b[0mN\u001b[0m\u001b[0;34m)\u001b[0m\u001b[0;34m)\u001b[0m\u001b[0;34m\u001b[0m\u001b[0m\n",
      "\u001b[0;31mNameError\u001b[0m: name 'queries' is not defined"
     ]
    }
   ],
   "source": [
    "b_data, u_data, reviews = get_training_data(verbose=True)\n",
    "v_queries = get_validation_reviews()\n",
    "\n",
    "X, y = construct_design_matrix(b_data, u_data, reviews, verbose=True)\n",
    "X_valid, y_valid = construct_design_matrix(b_data, u_data, v_queries, verbose=True)\n",
    "\n",
    "\n",
    "b_data.head()"
   ]
  },
  {
   "cell_type": "code",
   "execution_count": 28,
   "metadata": {},
   "outputs": [
    {
     "name": "stdout",
     "output_type": "stream",
     "text": [
      "Constructing test feature-matrix now.\n",
      "0/50078 done\n",
      "10000/50078 done\n",
      "20000/50078 done\n",
      "30000/50078 done\n",
      "40000/50078 done\n",
      "50000/50078 done\n",
      "Finished!\n"
     ]
    }
   ],
   "source": [
    "X_test = construct_test_matrix(b_data, u_data, verbose=True)"
   ]
  },
  {
   "cell_type": "markdown",
   "metadata": {
    "heading_collapsed": true
   },
   "source": [
    "# Preprocessing / dimensionality reduction"
   ]
  },
  {
   "cell_type": "code",
   "execution_count": 29,
   "metadata": {
    "hidden": true
   },
   "outputs": [
    {
     "data": {
      "image/png": "[encoded data removed]",
      "text/plain": [
       "<Figure size 864x576 with 1 Axes>"
      ]
     },
     "metadata": {
      "needs_background": "light"
     },
     "output_type": "display_data"
    },
    {
     "name": "stdout",
     "output_type": "stream",
     "text": [
      "Using 10 components - 0.999978 of variance explained.\n"
     ]
    }
   ],
   "source": [
    "X_n = normalize_columns(X)\n",
    "X_valid_n = normalize_columns(X_valid)\n",
    "\n",
    "Z = get_PCA_matrix(X, n_components=10, plot_expl_variance=True, verbose=True)\n",
    "X_pca = np.dot(X, Z.T)\n",
    "X_valid_pca = np.dot(X_valid, Z.T)"
   ]
  },
  {
   "cell_type": "markdown",
   "metadata": {},
   "source": [
    "# Hyperparameter Tuning"
   ]
  },
  {
   "cell_type": "code",
   "execution_count": 32,
   "metadata": {},
   "outputs": [],
   "source": [
    "results = dict()\n",
    "\n",
    "def rmse(y1, y2):\n",
    "    return np.sqrt(np.mean((y1-y2)**2))"
   ]
  },
  {
   "cell_type": "code",
   "execution_count": null,
   "metadata": {},
   "outputs": [
    {
     "name": "stdout",
     "output_type": "stream",
     "text": [
      "1.232646192385958  <- Training RMSE with C=0.1\n",
      "\n",
      "1.2763898607173771  <- Validation RMSE with C=0.1\n",
      "1.2283239613312564  <- Training RMSE with C=0.25\n",
      "\n",
      "1.2724097999008492  <- Validation RMSE with C=0.25\n",
      "1.237924257509533  <- Training RMSE with C=0.5\n",
      "\n",
      "1.2754351525515983  <- Validation RMSE with C=0.5\n"
     ]
    }
   ],
   "source": [
    "min_validation_mse = (float('inf'), 0.1)\n",
    "for penalty_constant in [0.1, 0.25, 0.5, 0.75, 1.0, 1.5, 2.0, 3.0, 8.0]:\n",
    "    clf = SupportVectorClf(penalty='l2', \n",
    "                           loss='squared_hinge', \n",
    "                           dual=False, \n",
    "                           C=penalty_constant,\n",
    "                           max_iter=4000)\n",
    "    clf.fit(X, y)\n",
    "\n",
    "    # training error\n",
    "    y_pred_train = clf.predict(X)\n",
    "    mse_train = rmse(y, y_pred_train)\n",
    "    print('{}  <- Training RMSE with C={}'.format(mse_train, penalty_constant))\n",
    "\n",
    "    print('')\n",
    "\n",
    "    # validation error\n",
    "    y_pred_valid = clf.predict(X_valid)\n",
    "    mse_valid = rmse(y_valid, y_pred_valid)\n",
    "    print('{}  <- Validation RMSE with C={}'.format(mse_valid, penalty_constant))\n",
    "    if mse_valid < min_validation_mse[0]:\n",
    "        min_validation_mse = (mse_valid, penalty_constant)\n",
    "opt_penalty = min_validation_mse[1]\n",
    "print(\"Optimal penalty constant of {} found\".format(opt_penalty))"
   ]
  },
  {
   "cell_type": "markdown",
   "metadata": {},
   "source": [
    "# Test data output"
   ]
  },
  {
   "cell_type": "code",
   "execution_count": null,
   "metadata": {},
   "outputs": [],
   "source": [
    "clf = SupportVectorClf(penalty='l2', \n",
    "                       loss='squared_hinge', \n",
    "                       dual=False, \n",
    "                       C=opt_penalty,\n",
    "                       max_iter=15000)\n",
    "clf.fit(X, y)\n",
    "y_test = clf.predict(X_test)\n",
    "y_cleaned = format_output(y_test)\n",
    "write_output(y_cleaned)"
   ]
  },
  {
   "cell_type": "markdown",
   "metadata": {},
   "source": [
    "# Normalized/PCA'd Calculations"
   ]
  },
  {
   "cell_type": "code",
   "execution_count": 21,
   "metadata": {},
   "outputs": [
    {
     "name": "stdout",
     "output_type": "stream",
     "text": [
      "1.208944  <- Training RMSE (norm)\n",
      "1.238514  <- Validation RMSE (norm)\n"
     ]
    }
   ],
   "source": [
    "# Do calculations with normalized columns\n",
    "clf_n = SupportVectorClf(penalty='l2', \n",
    "                       loss='squared_hinge', \n",
    "                       dual=False, \n",
    "                       C=opt_penalty,\n",
    "                       max_iter=4000)\n",
    "clf_n.fit(X_n, y)\n",
    "\n",
    "# training error (normalized columns)\n",
    "y_pred_train_norm = clf_n.predict(X_n)\n",
    "mse_train_norm = rmse(y, y_pred_train_norm)\n",
    "print('%f  <- Training RMSE (norm)' % mse_train_norm)\n",
    "\n",
    "# validation error (normalized columns)\n",
    "y_pred_valid_norm = clf_n.predict(X_valid_n)\n",
    "mse_valid_norm = rmse(y_valid, y_pred_valid_norm)\n",
    "print('%f  <- Validation RMSE (norm)' % mse_valid_norm)"
   ]
  },
  {
   "cell_type": "code",
   "execution_count": 22,
   "metadata": {},
   "outputs": [
    {
     "name": "stdout",
     "output_type": "stream",
     "text": [
      "1.403593  <- Training RMSE (PCA)\n",
      "1.549523  <- Validation RMSE (PCA)\n"
     ]
    }
   ],
   "source": [
    "clf_pca = SupportVectorClf(penalty='l2', \n",
    "                       loss='squared_hinge', \n",
    "                       dual=False, \n",
    "                       C=opt_penalty,\n",
    "                       max_iter=4000)\n",
    "clf_pca.fit(X_pca, y)\n",
    "\n",
    "# training error (PCA)\n",
    "y_pred_train_pca = clf_pca.predict(X_pca)\n",
    "mse_train_pca = rmse(y, y_pred_train_pca)\n",
    "print('%f  <- Training RMSE (PCA)' % mse_train_pca)\n",
    "\n",
    "\n",
    "# validation error (PCA)\n",
    "y_pred_valid_pca = clf_pca.predict(X_valid_pca)\n",
    "mse_valid_pca = rmse(y_valid, y_pred_valid_pca)\n",
    "print('%f  <- Validation RMSE (PCA)' % mse_valid_pca)"
   ]
  },
  {
   "cell_type": "markdown",
   "metadata": {},
   "source": [
    "# Inspect weight vector"
   ]
  },
  {
   "cell_type": "code",
   "execution_count": 23,
   "metadata": {},
   "outputs": [
    {
     "name": "stdout",
     "output_type": "stream",
     "text": [
      "num weights ~= 0: 50\n"
     ]
    },
    {
     "ename": "ValueError",
     "evalue": "x and y must be the same size",
     "output_type": "error",
     "traceback": [
      "\u001b[0;31m---------------------------------------------------------------------------\u001b[0m",
      "\u001b[0;31mValueError\u001b[0m                                Traceback (most recent call last)",
      "\u001b[0;32m<ipython-input-23-dd4e14b7407a>\u001b[0m in \u001b[0;36m<module>\u001b[0;34m\u001b[0m\n\u001b[1;32m      8\u001b[0m \u001b[0mf\u001b[0m\u001b[0;34m,\u001b[0m \u001b[0max\u001b[0m \u001b[0;34m=\u001b[0m \u001b[0mplt\u001b[0m\u001b[0;34m.\u001b[0m\u001b[0msubplots\u001b[0m\u001b[0;34m(\u001b[0m\u001b[0mfigsize\u001b[0m\u001b[0;34m=\u001b[0m\u001b[0;34m(\u001b[0m\u001b[0;36m12\u001b[0m\u001b[0;34m,\u001b[0m \u001b[0;36m8\u001b[0m\u001b[0;34m)\u001b[0m\u001b[0;34m)\u001b[0m\u001b[0;34m\u001b[0m\u001b[0m\n\u001b[1;32m      9\u001b[0m \u001b[0max\u001b[0m\u001b[0;34m.\u001b[0m\u001b[0mplot\u001b[0m\u001b[0;34m(\u001b[0m\u001b[0mxs\u001b[0m\u001b[0;34m,\u001b[0m \u001b[0mw\u001b[0m\u001b[0;34m)\u001b[0m\u001b[0;34m\u001b[0m\u001b[0m\n\u001b[0;32m---> 10\u001b[0;31m \u001b[0max\u001b[0m\u001b[0;34m.\u001b[0m\u001b[0mscatter\u001b[0m\u001b[0;34m(\u001b[0m\u001b[0mxs\u001b[0m\u001b[0;34m,\u001b[0m \u001b[0mw\u001b[0m\u001b[0;34m)\u001b[0m\u001b[0;34m\u001b[0m\u001b[0m\n\u001b[0m\u001b[1;32m     11\u001b[0m \u001b[0max\u001b[0m\u001b[0;34m.\u001b[0m\u001b[0mscatter\u001b[0m\u001b[0;34m(\u001b[0m\u001b[0mtiny_weights\u001b[0m\u001b[0;34m,\u001b[0m \u001b[0mw\u001b[0m\u001b[0;34m[\u001b[0m\u001b[0mtiny_weights\u001b[0m\u001b[0;34m]\u001b[0m\u001b[0;34m,\u001b[0m \u001b[0mcolor\u001b[0m\u001b[0;34m=\u001b[0m\u001b[0;34m'red'\u001b[0m\u001b[0;34m,\u001b[0m \u001b[0mzorder\u001b[0m\u001b[0;34m=\u001b[0m\u001b[0;36m5\u001b[0m\u001b[0;34m,\u001b[0m \u001b[0mlabel\u001b[0m\u001b[0;34m=\u001b[0m\u001b[0;34m'|w| < 10**-4'\u001b[0m\u001b[0;34m)\u001b[0m\u001b[0;34m\u001b[0m\u001b[0m\n\u001b[1;32m     12\u001b[0m \u001b[0mplt\u001b[0m\u001b[0;34m.\u001b[0m\u001b[0mlegend\u001b[0m\u001b[0;34m(\u001b[0m\u001b[0;34m)\u001b[0m\u001b[0;34m\u001b[0m\u001b[0m\n",
      "\u001b[0;32m~/Documents/CS145/cs145_course_project/.env/lib/python3.6/site-packages/matplotlib/__init__.py\u001b[0m in \u001b[0;36minner\u001b[0;34m(ax, data, *args, **kwargs)\u001b[0m\n\u001b[1;32m   1808\u001b[0m                         \u001b[0;34m\"the Matplotlib list!)\"\u001b[0m \u001b[0;34m%\u001b[0m \u001b[0;34m(\u001b[0m\u001b[0mlabel_namer\u001b[0m\u001b[0;34m,\u001b[0m \u001b[0mfunc\u001b[0m\u001b[0;34m.\u001b[0m\u001b[0m__name__\u001b[0m\u001b[0;34m)\u001b[0m\u001b[0;34m,\u001b[0m\u001b[0;34m\u001b[0m\u001b[0m\n\u001b[1;32m   1809\u001b[0m                         RuntimeWarning, stacklevel=2)\n\u001b[0;32m-> 1810\u001b[0;31m             \u001b[0;32mreturn\u001b[0m \u001b[0mfunc\u001b[0m\u001b[0;34m(\u001b[0m\u001b[0max\u001b[0m\u001b[0;34m,\u001b[0m \u001b[0;34m*\u001b[0m\u001b[0margs\u001b[0m\u001b[0;34m,\u001b[0m \u001b[0;34m**\u001b[0m\u001b[0mkwargs\u001b[0m\u001b[0;34m)\u001b[0m\u001b[0;34m\u001b[0m\u001b[0m\n\u001b[0m\u001b[1;32m   1811\u001b[0m \u001b[0;34m\u001b[0m\u001b[0m\n\u001b[1;32m   1812\u001b[0m         inner.__doc__ = _add_data_doc(inner.__doc__,\n",
      "\u001b[0;32m~/Documents/CS145/cs145_course_project/.env/lib/python3.6/site-packages/matplotlib/axes/_axes.py\u001b[0m in \u001b[0;36mscatter\u001b[0;34m(self, x, y, s, c, marker, cmap, norm, vmin, vmax, alpha, linewidths, verts, edgecolors, **kwargs)\u001b[0m\n\u001b[1;32m   4180\u001b[0m         \u001b[0my\u001b[0m \u001b[0;34m=\u001b[0m \u001b[0mnp\u001b[0m\u001b[0;34m.\u001b[0m\u001b[0mma\u001b[0m\u001b[0;34m.\u001b[0m\u001b[0mravel\u001b[0m\u001b[0;34m(\u001b[0m\u001b[0my\u001b[0m\u001b[0;34m)\u001b[0m\u001b[0;34m\u001b[0m\u001b[0m\n\u001b[1;32m   4181\u001b[0m         \u001b[0;32mif\u001b[0m \u001b[0mx\u001b[0m\u001b[0;34m.\u001b[0m\u001b[0msize\u001b[0m \u001b[0;34m!=\u001b[0m \u001b[0my\u001b[0m\u001b[0;34m.\u001b[0m\u001b[0msize\u001b[0m\u001b[0;34m:\u001b[0m\u001b[0;34m\u001b[0m\u001b[0m\n\u001b[0;32m-> 4182\u001b[0;31m             \u001b[0;32mraise\u001b[0m \u001b[0mValueError\u001b[0m\u001b[0;34m(\u001b[0m\u001b[0;34m\"x and y must be the same size\"\u001b[0m\u001b[0;34m)\u001b[0m\u001b[0;34m\u001b[0m\u001b[0m\n\u001b[0m\u001b[1;32m   4183\u001b[0m \u001b[0;34m\u001b[0m\u001b[0m\n\u001b[1;32m   4184\u001b[0m         \u001b[0;32mif\u001b[0m \u001b[0ms\u001b[0m \u001b[0;32mis\u001b[0m \u001b[0;32mNone\u001b[0m\u001b[0;34m:\u001b[0m\u001b[0;34m\u001b[0m\u001b[0m\n",
      "\u001b[0;31mValueError\u001b[0m: x and y must be the same size"
     ]
    },
    {
     "data": {
      "image/png": "[encoded data removed]",
      "text/plain": [
       "<Figure size 864x576 with 1 Axes>"
      ]
     },
     "metadata": {
      "needs_background": "light"
     },
     "output_type": "display_data"
    }
   ],
   "source": [
    "w = clf.coef_\n",
    "xs = range(len(w))\n",
    "\n",
    "tiny_weights = np.argwhere(abs(w) <= 10**-4)\n",
    "print('num weights ~= 0: %d' % len(tiny_weights))\n",
    "\n",
    "\n",
    "f, ax = plt.subplots(figsize=(12, 8))\n",
    "ax.plot(xs, w)\n",
    "ax.scatter(xs, w)\n",
    "ax.scatter(tiny_weights, w[tiny_weights], color='red', zorder=5, label='|w| < 10**-4')\n",
    "plt.legend()\n",
    "plt.show()"
   ]
  },
  {
   "cell_type": "code",
   "execution_count": null,
   "metadata": {},
   "outputs": [],
   "source": [
    "all_columns = np.append(b_data.columns, u_data.columns)\n",
    "\n",
    "for i, col in enumerate(all_columns):\n",
    "    if w[i] < 0:\n",
    "        print('%f  <- |w| for %s' % (w[i], col))\n",
    "    else:\n",
    "        print(' %f  <- |w| for %s' % (w[i], col))"
   ]
  },
  {
   "cell_type": "code",
   "execution_count": null,
   "metadata": {},
   "outputs": [],
   "source": []
  }
 ],
 "metadata": {
  "kernelspec": {
   "display_name": "Python 3",
   "language": "python",
   "name": "python3"
  },
  "language_info": {
   "codemirror_mode": {
    "name": "ipython",
    "version": 3
   },
   "file_extension": ".py",
   "mimetype": "text/x-python",
   "name": "python",
   "nbconvert_exporter": "python",
   "pygments_lexer": "ipython3",
   "version": "3.6.3"
  },
  "varInspector": {
   "cols": {
    "lenName": 16,
    "lenType": 16,
    "lenVar": 40
   },
   "kernels_config": {
    "python": {
     "delete_cmd_postfix": "",
     "delete_cmd_prefix": "del ",
     "library": "var_list.py",
     "varRefreshCmd": "print(var_dic_list())"
    },
    "r": {
     "delete_cmd_postfix": ") ",
     "delete_cmd_prefix": "rm(",
     "library": "var_list.r",
     "varRefreshCmd": "cat(var_dic_list()) "
    }
   },
   "types_to_exclude": [
    "module",
    "function",
    "builtin_function_or_method",
    "instance",
    "_Feature"
   ],
   "window_display": false
  }
 },
 "nbformat": 4,
 "nbformat_minor": 2
}

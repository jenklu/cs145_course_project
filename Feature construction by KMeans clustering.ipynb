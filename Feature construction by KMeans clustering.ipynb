{
 "cells": [
  {
   "cell_type": "markdown",
   "metadata": {},
   "source": [
    "# Feature construction by KMeans\n",
    "\n",
    "Cluster businesses, and cluster users. For each review, add the two cluster labels. \n",
    "\n",
    "The idea is that similar users will have similar rating habits, and similar businesses will receive similar ratings from users."
   ]
  },
  {
   "cell_type": "markdown",
   "metadata": {},
   "source": [
    "# Code"
   ]
  },
  {
   "cell_type": "code",
   "execution_count": 39,
   "metadata": {},
   "outputs": [],
   "source": [
    "import pandas as pd\n",
    "import numpy as np\n",
    "import matplotlib.pyplot as plt\n",
    "from src.get_data import *\n",
    "from IPython.display import clear_output\n",
    "from sklearn.cluster import KMeans\n",
    "from sklearn.linear_model import Ridge\n",
    "from src.get_data import *\n",
    "import ast\n",
    "import time"
   ]
  },
  {
   "cell_type": "code",
   "execution_count": 3,
   "metadata": {},
   "outputs": [],
   "source": [
    "%load_ext autoreload\n",
    "%autoreload 2"
   ]
  },
  {
   "cell_type": "markdown",
   "metadata": {},
   "source": [
    "# Fetch data, do clustering, and add feature(s)"
   ]
  },
  {
   "cell_type": "code",
   "execution_count": 37,
   "metadata": {
    "code_folding": [
     5
    ]
   },
   "outputs": [],
   "source": [
    "b_data, u_data, reviews = get_training_data()\n",
    "valid_queries = get_validation_reviews()\n",
    "\n",
    "kmeans_b = KMeans(n_clusters=8)\n",
    "kmeans_b.fit(b_data.values)\n",
    "b_labels = kmeans_b.predict(b_data.values)\n",
    "\n",
    "b_data.insert(loc=len(b_data.columns), column='KMeans_cluster_b', value=b_labels)\n",
    "b_data = one_hot_encode(b_data, 'KMeans_cluster_b')\n",
    "\n",
    "kmeans_u = KMeans(n_clusters=8)\n",
    "kmeans_u.fit(u_data.values)\n",
    "u_labels = kmeans_u.predict(u_data.values)\n",
    "\n",
    "u_data.insert(loc=len(u_data.columns), column='KMeans_cluster_u', value=u_labels)\n",
    "u_data = one_hot_encode(u_data, 'KMeans_cluster_u')"
   ]
  },
  {
   "cell_type": "markdown",
   "metadata": {},
   "source": [
    "# Now construct design matrix"
   ]
  },
  {
   "cell_type": "code",
   "execution_count": 38,
   "metadata": {},
   "outputs": [
    {
     "name": "stdout",
     "output_type": "stream",
     "text": [
      "Constructing design matrix now.\n",
      "0/150232 done\n",
      "20000/150232 done\n",
      "40000/150232 done\n",
      "60000/150232 done\n",
      "80000/150232 done\n",
      "100000/150232 done\n",
      "120000/150232 done\n",
      "140000/150232 done\n",
      "Finished!\n",
      "Constructing design matrix now.\n",
      "0/50077 done\n",
      "20000/50077 done\n",
      "40000/50077 done\n",
      "Finished!\n"
     ]
    }
   ],
   "source": [
    "X_train, y_train = construct_design_matrix(\n",
    "    b_data, u_data, reviews, return_df=True, verbose=True\n",
    ")\n",
    "X_valid, y_valid = construct_design_matrix(\n",
    "    b_data, u_data, valid_queries, return_df=True, verbose=True\n",
    ")"
   ]
  },
  {
   "cell_type": "markdown",
   "metadata": {},
   "source": [
    "# Regression (ridge)"
   ]
  },
  {
   "cell_type": "code",
   "execution_count": 42,
   "metadata": {},
   "outputs": [
    {
     "name": "stdout",
     "output_type": "stream",
     "text": [
      "1.005137  <- training RMSE\n",
      "1.051989  <- validation RMSE\n"
     ]
    }
   ],
   "source": [
    "def rmse(y1, y2):\n",
    "    return np.sqrt(np.mean((y1-y2)**2))\n",
    "\n",
    "clf = Ridge(alpha=0.1)\n",
    "clf.fit(X_train.values, y_train)\n",
    "\n",
    "y_pred_train = clf.predict(X_train.values)\n",
    "ypt_err = rmse(y_train, y_pred_train)\n",
    "\n",
    "y_pred_valid = clf.predict(X_valid.values)\n",
    "ypv_err = rmse(y_valid, y_pred_valid)\n",
    "\n",
    "print('%f  <- training RMSE' % ypt_err)\n",
    "print('%f  <- validation RMSE' % ypv_err)"
   ]
  }
 ],
 "metadata": {
  "kernelspec": {
   "display_name": "Python 3",
   "language": "python",
   "name": "python3"
  },
  "language_info": {
   "codemirror_mode": {
    "name": "ipython",
    "version": 3
   },
   "file_extension": ".py",
   "mimetype": "text/x-python",
   "name": "python",
   "nbconvert_exporter": "python",
   "pygments_lexer": "ipython3",
   "version": "3.5.2"
  },
  "varInspector": {
   "cols": {
    "lenName": 16,
    "lenType": 16,
    "lenVar": 40
   },
   "kernels_config": {
    "python": {
     "delete_cmd_postfix": "",
     "delete_cmd_prefix": "del ",
     "library": "var_list.py",
     "varRefreshCmd": "print(var_dic_list())"
    },
    "r": {
     "delete_cmd_postfix": ") ",
     "delete_cmd_prefix": "rm(",
     "library": "var_list.r",
     "varRefreshCmd": "cat(var_dic_list()) "
    }
   },
   "types_to_exclude": [
    "module",
    "function",
    "builtin_function_or_method",
    "instance",
    "_Feature"
   ],
   "window_display": false
  }
 },
 "nbformat": 4,
 "nbformat_minor": 2
}

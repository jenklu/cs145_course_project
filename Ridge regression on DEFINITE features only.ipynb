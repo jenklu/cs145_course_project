{
 "cells": [
  {
   "cell_type": "markdown",
   "metadata": {
    "heading_collapsed": true
   },
   "source": [
    "# Imports"
   ]
  },
  {
   "cell_type": "code",
   "execution_count": 62,
   "metadata": {
    "hidden": true
   },
   "outputs": [
    {
     "name": "stdout",
     "output_type": "stream",
     "text": [
      "The autoreload extension is already loaded. To reload it, use:\n",
      "  %reload_ext autoreload\n"
     ]
    }
   ],
   "source": [
    "import pandas as pd\n",
    "import numpy as np\n",
    "import matplotlib.pyplot as plt\n",
    "from src.get_data import *\n",
    "from IPython.display import clear_output\n",
    "from sklearn.linear_model import Ridge\n",
    "from src.preprocessing import *\n",
    "\n",
    "%load_ext autoreload\n",
    "%autoreload 2"
   ]
  },
  {
   "cell_type": "markdown",
   "metadata": {
    "heading_collapsed": true
   },
   "source": [
    "# Load data"
   ]
  },
  {
   "cell_type": "code",
   "execution_count": 36,
   "metadata": {
    "hidden": true
   },
   "outputs": [
    {
     "data": {
      "text/plain": [
       "array([nan, '21plus', 'allages', '19plus', '18plus'], dtype=object)"
      ]
     },
     "execution_count": 36,
     "metadata": {},
     "output_type": "execute_result"
    }
   ],
   "source": [
    "bd_full = pd.read_csv('data/business.csv')\n",
    "bd_full['attributes_AgesAllowed'].unique()"
   ]
  },
  {
   "cell_type": "code",
   "execution_count": 37,
   "metadata": {
    "hidden": true
   },
   "outputs": [
    {
     "name": "stdout",
     "output_type": "stream",
     "text": [
      "========== Feature 'attributes_AgesAllowed' ==========\n",
      "TYPE: string. Doing one-hot encoding.\n",
      "\n",
      "========== Feature 'attributes_GoodForKids' ==========\n",
      "TYPE: boolean. Changing False -> 0, True -> 1.\n",
      "Detected NaN in column. Replacing with mean of non-NaN values.\n",
      "\n",
      "========== Feature 'attributes_OutdoorSeating' ==========\n",
      "TYPE: boolean. Changing False -> 0, True -> 1.\n",
      "Detected NaN in column. Replacing with mean of non-NaN values.\n",
      "\n",
      "========== Feature 'attributes_RestaurantsDelivery' ==========\n",
      "TYPE: boolean. Changing False -> 0, True -> 1.\n",
      "Detected NaN in column. Replacing with mean of non-NaN values.\n",
      "\n",
      "========== Feature 'attributes_RestaurantsGoodForGroups' ==========\n",
      "TYPE: boolean. Changing False -> 0, True -> 1.\n",
      "Detected NaN in column. Replacing with mean of non-NaN values.\n",
      "\n",
      "========== Feature 'attributes_RestaurantsPriceRange2' ==========\n",
      "TYPE: numeric.\n",
      "Detected NaN in column. Replacing with mean of non-NaN values.\n",
      "\n",
      "========== Feature 'attributes_RestaurantsReservations' ==========\n",
      "TYPE: boolean. Changing False -> 0, True -> 1.\n",
      "Detected NaN in column. Replacing with mean of non-NaN values.\n",
      "\n",
      "========== Feature 'attributes_WiFi' ==========\n",
      "TYPE: string. Doing one-hot encoding.\n",
      "\n"
     ]
    },
    {
     "data": {
      "text/html": [
       "<div>\n",
       "<style scoped>\n",
       "    .dataframe tbody tr th:only-of-type {\n",
       "        vertical-align: middle;\n",
       "    }\n",
       "\n",
       "    .dataframe tbody tr th {\n",
       "        vertical-align: top;\n",
       "    }\n",
       "\n",
       "    .dataframe thead th {\n",
       "        text-align: right;\n",
       "    }\n",
       "</style>\n",
       "<table border=\"1\" class=\"dataframe\">\n",
       "  <thead>\n",
       "    <tr style=\"text-align: right;\">\n",
       "      <th></th>\n",
       "      <th>attributes_GoodForKids</th>\n",
       "      <th>attributes_OutdoorSeating</th>\n",
       "      <th>attributes_RestaurantsDelivery</th>\n",
       "      <th>attributes_RestaurantsGoodForGroups</th>\n",
       "      <th>attributes_RestaurantsPriceRange2</th>\n",
       "      <th>attributes_RestaurantsReservations</th>\n",
       "      <th>stars</th>\n",
       "      <th>attributes_AgesAllowedNAN</th>\n",
       "      <th>attributes_AgesAllowed21PLUS</th>\n",
       "      <th>attributes_AgesAllowedALLAGES</th>\n",
       "      <th>attributes_AgesAllowed19PLUS</th>\n",
       "      <th>attributes_AgesAllowed18PLUS</th>\n",
       "      <th>attributes_WiFiNO</th>\n",
       "      <th>attributes_WiFiFREE</th>\n",
       "      <th>attributes_WiFiNAN</th>\n",
       "      <th>attributes_WiFiPAID</th>\n",
       "    </tr>\n",
       "    <tr>\n",
       "      <th>business_id</th>\n",
       "      <th></th>\n",
       "      <th></th>\n",
       "      <th></th>\n",
       "      <th></th>\n",
       "      <th></th>\n",
       "      <th></th>\n",
       "      <th></th>\n",
       "      <th></th>\n",
       "      <th></th>\n",
       "      <th></th>\n",
       "      <th></th>\n",
       "      <th></th>\n",
       "      <th></th>\n",
       "      <th></th>\n",
       "      <th></th>\n",
       "      <th></th>\n",
       "    </tr>\n",
       "  </thead>\n",
       "  <tbody>\n",
       "    <tr>\n",
       "      <th>KuxDPl6UYNLxFChPm0_MNw</th>\n",
       "      <td>0.0</td>\n",
       "      <td>1.0</td>\n",
       "      <td>0.0</td>\n",
       "      <td>1.0</td>\n",
       "      <td>2.0</td>\n",
       "      <td>1.0</td>\n",
       "      <td>4.0</td>\n",
       "      <td>1.0</td>\n",
       "      <td>1.0</td>\n",
       "      <td>1.0</td>\n",
       "      <td>1.0</td>\n",
       "      <td>1.0</td>\n",
       "      <td>1.0</td>\n",
       "      <td>0.0</td>\n",
       "      <td>0.0</td>\n",
       "      <td>0.0</td>\n",
       "    </tr>\n",
       "    <tr>\n",
       "      <th>6SAfQKe2oM5g_EtcYXyAMg</th>\n",
       "      <td>1.0</td>\n",
       "      <td>1.0</td>\n",
       "      <td>0.0</td>\n",
       "      <td>1.0</td>\n",
       "      <td>1.0</td>\n",
       "      <td>0.0</td>\n",
       "      <td>4.0</td>\n",
       "      <td>1.0</td>\n",
       "      <td>1.0</td>\n",
       "      <td>1.0</td>\n",
       "      <td>1.0</td>\n",
       "      <td>1.0</td>\n",
       "      <td>1.0</td>\n",
       "      <td>0.0</td>\n",
       "      <td>0.0</td>\n",
       "      <td>0.0</td>\n",
       "    </tr>\n",
       "    <tr>\n",
       "      <th>upB0RQl-l529IVwgOpwOQQ</th>\n",
       "      <td>0.0</td>\n",
       "      <td>1.0</td>\n",
       "      <td>0.0</td>\n",
       "      <td>1.0</td>\n",
       "      <td>1.0</td>\n",
       "      <td>0.0</td>\n",
       "      <td>4.5</td>\n",
       "      <td>1.0</td>\n",
       "      <td>1.0</td>\n",
       "      <td>1.0</td>\n",
       "      <td>1.0</td>\n",
       "      <td>1.0</td>\n",
       "      <td>1.0</td>\n",
       "      <td>0.0</td>\n",
       "      <td>0.0</td>\n",
       "      <td>0.0</td>\n",
       "    </tr>\n",
       "    <tr>\n",
       "      <th>TulmRC5V0--dnXYd_GOSvA</th>\n",
       "      <td>1.0</td>\n",
       "      <td>0.0</td>\n",
       "      <td>0.0</td>\n",
       "      <td>1.0</td>\n",
       "      <td>2.0</td>\n",
       "      <td>0.0</td>\n",
       "      <td>4.0</td>\n",
       "      <td>1.0</td>\n",
       "      <td>1.0</td>\n",
       "      <td>1.0</td>\n",
       "      <td>1.0</td>\n",
       "      <td>1.0</td>\n",
       "      <td>1.0</td>\n",
       "      <td>0.0</td>\n",
       "      <td>0.0</td>\n",
       "      <td>0.0</td>\n",
       "    </tr>\n",
       "    <tr>\n",
       "      <th>yqYtY3-Po4OVPafA9Z-Xyw</th>\n",
       "      <td>1.0</td>\n",
       "      <td>0.0</td>\n",
       "      <td>0.0</td>\n",
       "      <td>1.0</td>\n",
       "      <td>2.0</td>\n",
       "      <td>1.0</td>\n",
       "      <td>3.5</td>\n",
       "      <td>1.0</td>\n",
       "      <td>1.0</td>\n",
       "      <td>1.0</td>\n",
       "      <td>1.0</td>\n",
       "      <td>1.0</td>\n",
       "      <td>0.0</td>\n",
       "      <td>1.0</td>\n",
       "      <td>0.0</td>\n",
       "      <td>0.0</td>\n",
       "    </tr>\n",
       "  </tbody>\n",
       "</table>\n",
       "</div>"
      ],
      "text/plain": [
       "                        attributes_GoodForKids  attributes_OutdoorSeating  \\\n",
       "business_id                                                                 \n",
       "KuxDPl6UYNLxFChPm0_MNw                     0.0                        1.0   \n",
       "6SAfQKe2oM5g_EtcYXyAMg                     1.0                        1.0   \n",
       "upB0RQl-l529IVwgOpwOQQ                     0.0                        1.0   \n",
       "TulmRC5V0--dnXYd_GOSvA                     1.0                        0.0   \n",
       "yqYtY3-Po4OVPafA9Z-Xyw                     1.0                        0.0   \n",
       "\n",
       "                        attributes_RestaurantsDelivery  \\\n",
       "business_id                                              \n",
       "KuxDPl6UYNLxFChPm0_MNw                             0.0   \n",
       "6SAfQKe2oM5g_EtcYXyAMg                             0.0   \n",
       "upB0RQl-l529IVwgOpwOQQ                             0.0   \n",
       "TulmRC5V0--dnXYd_GOSvA                             0.0   \n",
       "yqYtY3-Po4OVPafA9Z-Xyw                             0.0   \n",
       "\n",
       "                        attributes_RestaurantsGoodForGroups  \\\n",
       "business_id                                                   \n",
       "KuxDPl6UYNLxFChPm0_MNw                                  1.0   \n",
       "6SAfQKe2oM5g_EtcYXyAMg                                  1.0   \n",
       "upB0RQl-l529IVwgOpwOQQ                                  1.0   \n",
       "TulmRC5V0--dnXYd_GOSvA                                  1.0   \n",
       "yqYtY3-Po4OVPafA9Z-Xyw                                  1.0   \n",
       "\n",
       "                        attributes_RestaurantsPriceRange2  \\\n",
       "business_id                                                 \n",
       "KuxDPl6UYNLxFChPm0_MNw                                2.0   \n",
       "6SAfQKe2oM5g_EtcYXyAMg                                1.0   \n",
       "upB0RQl-l529IVwgOpwOQQ                                1.0   \n",
       "TulmRC5V0--dnXYd_GOSvA                                2.0   \n",
       "yqYtY3-Po4OVPafA9Z-Xyw                                2.0   \n",
       "\n",
       "                        attributes_RestaurantsReservations  stars  \\\n",
       "business_id                                                         \n",
       "KuxDPl6UYNLxFChPm0_MNw                                 1.0    4.0   \n",
       "6SAfQKe2oM5g_EtcYXyAMg                                 0.0    4.0   \n",
       "upB0RQl-l529IVwgOpwOQQ                                 0.0    4.5   \n",
       "TulmRC5V0--dnXYd_GOSvA                                 0.0    4.0   \n",
       "yqYtY3-Po4OVPafA9Z-Xyw                                 1.0    3.5   \n",
       "\n",
       "                        attributes_AgesAllowedNAN  \\\n",
       "business_id                                         \n",
       "KuxDPl6UYNLxFChPm0_MNw                        1.0   \n",
       "6SAfQKe2oM5g_EtcYXyAMg                        1.0   \n",
       "upB0RQl-l529IVwgOpwOQQ                        1.0   \n",
       "TulmRC5V0--dnXYd_GOSvA                        1.0   \n",
       "yqYtY3-Po4OVPafA9Z-Xyw                        1.0   \n",
       "\n",
       "                        attributes_AgesAllowed21PLUS  \\\n",
       "business_id                                            \n",
       "KuxDPl6UYNLxFChPm0_MNw                           1.0   \n",
       "6SAfQKe2oM5g_EtcYXyAMg                           1.0   \n",
       "upB0RQl-l529IVwgOpwOQQ                           1.0   \n",
       "TulmRC5V0--dnXYd_GOSvA                           1.0   \n",
       "yqYtY3-Po4OVPafA9Z-Xyw                           1.0   \n",
       "\n",
       "                        attributes_AgesAllowedALLAGES  \\\n",
       "business_id                                             \n",
       "KuxDPl6UYNLxFChPm0_MNw                            1.0   \n",
       "6SAfQKe2oM5g_EtcYXyAMg                            1.0   \n",
       "upB0RQl-l529IVwgOpwOQQ                            1.0   \n",
       "TulmRC5V0--dnXYd_GOSvA                            1.0   \n",
       "yqYtY3-Po4OVPafA9Z-Xyw                            1.0   \n",
       "\n",
       "                        attributes_AgesAllowed19PLUS  \\\n",
       "business_id                                            \n",
       "KuxDPl6UYNLxFChPm0_MNw                           1.0   \n",
       "6SAfQKe2oM5g_EtcYXyAMg                           1.0   \n",
       "upB0RQl-l529IVwgOpwOQQ                           1.0   \n",
       "TulmRC5V0--dnXYd_GOSvA                           1.0   \n",
       "yqYtY3-Po4OVPafA9Z-Xyw                           1.0   \n",
       "\n",
       "                        attributes_AgesAllowed18PLUS  attributes_WiFiNO  \\\n",
       "business_id                                                               \n",
       "KuxDPl6UYNLxFChPm0_MNw                           1.0                1.0   \n",
       "6SAfQKe2oM5g_EtcYXyAMg                           1.0                1.0   \n",
       "upB0RQl-l529IVwgOpwOQQ                           1.0                1.0   \n",
       "TulmRC5V0--dnXYd_GOSvA                           1.0                1.0   \n",
       "yqYtY3-Po4OVPafA9Z-Xyw                           1.0                0.0   \n",
       "\n",
       "                        attributes_WiFiFREE  attributes_WiFiNAN  \\\n",
       "business_id                                                       \n",
       "KuxDPl6UYNLxFChPm0_MNw                  0.0                 0.0   \n",
       "6SAfQKe2oM5g_EtcYXyAMg                  0.0                 0.0   \n",
       "upB0RQl-l529IVwgOpwOQQ                  0.0                 0.0   \n",
       "TulmRC5V0--dnXYd_GOSvA                  0.0                 0.0   \n",
       "yqYtY3-Po4OVPafA9Z-Xyw                  1.0                 0.0   \n",
       "\n",
       "                        attributes_WiFiPAID  \n",
       "business_id                                  \n",
       "KuxDPl6UYNLxFChPm0_MNw                  0.0  \n",
       "6SAfQKe2oM5g_EtcYXyAMg                  0.0  \n",
       "upB0RQl-l529IVwgOpwOQQ                  0.0  \n",
       "TulmRC5V0--dnXYd_GOSvA                  0.0  \n",
       "yqYtY3-Po4OVPafA9Z-Xyw                  0.0  "
      ]
     },
     "execution_count": 37,
     "metadata": {},
     "output_type": "execute_result"
    }
   ],
   "source": [
    "b_data, u_data, reviews = get_training_data(verbose=True)\n",
    "v_queries = get_validation_reviews()\n",
    "\n",
    "X, y = construct_design_matrix(b_data, u_data, reviews, verbose=True)\n",
    "X_valid, y_valid = construct_design_matrix(b_data, u_data, v_queries, verbose=True)\n",
    "\n",
    "b_data.head()"
   ]
  },
  {
   "cell_type": "markdown",
   "metadata": {
    "heading_collapsed": true
   },
   "source": [
    "# Preprocessing / dimensionality reduction"
   ]
  },
  {
   "cell_type": "code",
   "execution_count": 80,
   "metadata": {
    "hidden": true
   },
   "outputs": [
    {
     "data": {
      "image/png": "[encoded data removed]",
      "text/plain": [
       "<Figure size 864x576 with 1 Axes>"
      ]
     },
     "metadata": {},
     "output_type": "display_data"
    },
    {
     "name": "stdout",
     "output_type": "stream",
     "text": [
      "Using 10 components - 0.999978 of variance explained.\n"
     ]
    }
   ],
   "source": [
    "X_n = normalize_columns(X)\n",
    "X_valid_n = normalize_columns(X_valid)\n",
    "\n",
    "Z = get_PCA_matrix(X, n_components=10, plot_expl_variance=True, verbose=True)\n",
    "X_pca = np.dot(X, Z.T)\n",
    "X_valid_pca = np.dot(X_valid, Z.T)"
   ]
  },
  {
   "cell_type": "markdown",
   "metadata": {},
   "source": [
    "# Regression"
   ]
  },
  {
   "cell_type": "code",
   "execution_count": 90,
   "metadata": {},
   "outputs": [],
   "source": [
    "results = dict()\n",
    "\n",
    "def rmse(y1, y2):\n",
    "    return np.sqrt(np.mean((y1-y2)**2))"
   ]
  },
  {
   "cell_type": "code",
   "execution_count": 91,
   "metadata": {},
   "outputs": [
    {
     "name": "stdout",
     "output_type": "stream",
     "text": [
      "1.005747  <- Training RMSE\n",
      "1.005855  <- Training RMSE (norm)\n",
      "1.149530  <- Training RMSE (PCA)\n",
      "\n",
      "1.052268  <- Validation RMSE\n",
      "1.087857  <- Validation RMSE (norm)\n",
      "1.266225  <- Validation RMSE (PCA)\n"
     ]
    }
   ],
   "source": [
    "clf = Ridge(alpha=0.05)\n",
    "clf.fit(X, y)\n",
    "\n",
    "clf_n = Ridge(alpha=0.05)\n",
    "clf_n.fit(X_n, y)\n",
    "\n",
    "clf_pca = Ridge(alpha=0.05)\n",
    "clf_pca.fit(X_pca, y)\n",
    "\n",
    "\n",
    "# training error\n",
    "y_pred_train = clf.predict(X)\n",
    "mse_train = rmse(y, y_pred_train)\n",
    "print('%f  <- Training RMSE' % mse_train)\n",
    "\n",
    "# training error (normalized columns)\n",
    "y_pred_train_norm = clf_n.predict(X_n)\n",
    "mse_train_norm = rmse(y, y_pred_train_norm)\n",
    "print('%f  <- Training RMSE (norm)' % mse_train_norm)\n",
    "\n",
    "# training error (PCA)\n",
    "y_pred_train_pca = clf_pca.predict(X_pca)\n",
    "mse_train_pca = rmse(y, y_pred_train_pca)\n",
    "print('%f  <- Training RMSE (PCA)' % mse_train_pca)\n",
    "\n",
    "print('')\n",
    "\n",
    "# validation error\n",
    "y_pred_valid = clf.predict(X_valid)\n",
    "mse_valid = rmse(y_valid, y_pred_valid)\n",
    "print('%f  <- Validation RMSE' % mse_valid)\n",
    "\n",
    "# validation error (normalized columns)\n",
    "y_pred_valid_norm = clf_n.predict(X_valid_n)\n",
    "mse_valid_norm = rmse(y_valid, y_pred_valid_norm)\n",
    "print('%f  <- Validation RMSE (norm)' % mse_valid_norm)\n",
    "\n",
    "# validation error (PCA)\n",
    "y_pred_valid_pca = clf_pca.predict(X_valid_pca)\n",
    "mse_valid_pca = rmse(y_valid, y_pred_valid_pca)\n",
    "print('%f  <- Validation RMSE (PCA)' % mse_valid_pca)"
   ]
  },
  {
   "cell_type": "markdown",
   "metadata": {},
   "source": [
    "# Inspect weight vector"
   ]
  },
  {
   "cell_type": "code",
   "execution_count": 99,
   "metadata": {},
   "outputs": [
    {
     "name": "stdout",
     "output_type": "stream",
     "text": [
      "num weights ~= 0: 9\n"
     ]
    },
    {
     "data": {
      "image/png": "[encoded data removed]",
      "text/plain": [
       "<Figure size 864x576 with 1 Axes>"
      ]
     },
     "metadata": {},
     "output_type": "display_data"
    }
   ],
   "source": [
    "w = clf.coef_\n",
    "xs = range(len(w))\n",
    "\n",
    "tiny_weights = np.argwhere(abs(w) <= 10**-4)\n",
    "print('num weights ~= 0: %d' % len(tiny_weights))\n",
    "\n",
    "\n",
    "f, ax = plt.subplots(figsize=(12, 8))\n",
    "ax.plot(xs, w)\n",
    "ax.scatter(xs, w)\n",
    "ax.scatter(tiny_weights, w[tiny_weights], color='red', zorder=5, label='|w| < 10**-4')\n",
    "plt.legend()\n",
    "plt.show()"
   ]
  },
  {
   "cell_type": "code",
   "execution_count": 102,
   "metadata": {},
   "outputs": [
    {
     "name": "stdout",
     "output_type": "stream",
     "text": [
      "-0.022158  <- |w| for attributes_GoodForKids\n",
      "-0.000530  <- |w| for attributes_OutdoorSeating\n",
      " 0.034338  <- |w| for attributes_RestaurantsDelivery\n",
      "-0.107442  <- |w| for attributes_RestaurantsGoodForGroups\n",
      " 0.028911  <- |w| for attributes_RestaurantsPriceRange2\n",
      "-0.020178  <- |w| for attributes_RestaurantsReservations\n",
      " 0.689842  <- |w| for stars\n",
      "-0.014527  <- |w| for attributes_AgesAllowedNAN\n",
      "-0.156745  <- |w| for attributes_AgesAllowed21PLUS\n",
      "-0.136656  <- |w| for attributes_AgesAllowedALLAGES\n",
      " 0.137557  <- |w| for attributes_AgesAllowed19PLUS\n",
      " 0.112263  <- |w| for attributes_AgesAllowed18PLUS\n",
      " 0.002355  <- |w| for attributes_WiFiNO\n",
      "-0.027051  <- |w| for attributes_WiFiFREE\n",
      " 0.021345  <- |w| for attributes_WiFiNAN\n",
      " 0.067386  <- |w| for attributes_WiFiPAID\n",
      " 0.826106  <- |w| for average_stars\n",
      "-0.000019  <- |w| for compliment_cool\n",
      "-0.000743  <- |w| for compliment_cute\n",
      "-0.000019  <- |w| for compliment_funny\n",
      " 0.000086  <- |w| for compliment_hot\n",
      " 0.001274  <- |w| for compliment_list\n",
      " 0.000479  <- |w| for compliment_more\n",
      "-0.000101  <- |w| for compliment_note\n",
      "-0.000025  <- |w| for compliment_photos\n",
      " 0.000089  <- |w| for compliment_plain\n",
      " 0.000207  <- |w| for compliment_profile\n",
      "-0.000376  <- |w| for compliment_writer\n",
      " 0.000004  <- |w| for cool\n",
      "-0.000220  <- |w| for fans\n",
      "-0.000000  <- |w| for funny\n",
      " 0.000005  <- |w| for review_count\n",
      "-0.000002  <- |w| for useful\n"
     ]
    }
   ],
   "source": [
    "all_columns = np.append(b_data.columns, u_data.columns)\n",
    "\n",
    "for i, col in enumerate(all_columns):\n",
    "    if w[i] < 0:\n",
    "        print('%f  <- |w| for %s' % (w[i], col))\n",
    "    else:\n",
    "        print(' %f  <- |w| for %s' % (w[i], col))"
   ]
  }
 ],
 "metadata": {
  "kernelspec": {
   "display_name": "Python 3",
   "language": "python",
   "name": "python3"
  },
  "language_info": {
   "codemirror_mode": {
    "name": "ipython",
    "version": 3
   },
   "file_extension": ".py",
   "mimetype": "text/x-python",
   "name": "python",
   "nbconvert_exporter": "python",
   "pygments_lexer": "ipython3",
   "version": "3.5.2"
  },
  "varInspector": {
   "cols": {
    "lenName": 16,
    "lenType": 16,
    "lenVar": 40
   },
   "kernels_config": {
    "python": {
     "delete_cmd_postfix": "",
     "delete_cmd_prefix": "del ",
     "library": "var_list.py",
     "varRefreshCmd": "print(var_dic_list())"
    },
    "r": {
     "delete_cmd_postfix": ") ",
     "delete_cmd_prefix": "rm(",
     "library": "var_list.r",
     "varRefreshCmd": "cat(var_dic_list()) "
    }
   },
   "types_to_exclude": [
    "module",
    "function",
    "builtin_function_or_method",
    "instance",
    "_Feature"
   ],
   "window_display": false
  }
 },
 "nbformat": 4,
 "nbformat_minor": 2
}

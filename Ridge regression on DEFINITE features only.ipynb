{
 "cells": [
  {
   "cell_type": "markdown",
   "metadata": {},
   "source": [
    "# Imports"
   ]
  },
  {
   "cell_type": "code",
   "execution_count": 1,
   "metadata": {},
   "outputs": [],
   "source": [
    "import pandas as pd\n",
    "import numpy as np\n",
    "import matplotlib.pyplot as plt\n",
    "from src.get_data import *\n",
    "from IPython.display import clear_output\n",
    "from sklearn.linear_model import Ridge"
   ]
  },
  {
   "cell_type": "markdown",
   "metadata": {
    "heading_collapsed": true
   },
   "source": [
    "# Load data"
   ]
  },
  {
   "cell_type": "code",
   "execution_count": 3,
   "metadata": {
    "hidden": true
   },
   "outputs": [
    {
     "name": "stdout",
     "output_type": "stream",
     "text": [
      "The autoreload extension is already loaded. To reload it, use:\n",
      "  %reload_ext autoreload\n",
      "========== Feature 'attributes_GoodForKids' ==========\n",
      "TYPE: boolean. Changing False -> 0, True -> 1.\n",
      "Detected NaN in column. Replacing with mean of non-NaN values.\n",
      "\n",
      "========== Feature 'attributes_OutdoorSeating' ==========\n",
      "TYPE: boolean. Changing False -> 0, True -> 1.\n",
      "Detected NaN in column. Replacing with mean of non-NaN values.\n",
      "\n",
      "========== Feature 'attributes_RestaurantsDelivery' ==========\n",
      "TYPE: boolean. Changing False -> 0, True -> 1.\n",
      "Detected NaN in column. Replacing with mean of non-NaN values.\n",
      "\n",
      "========== Feature 'attributes_RestaurantsGoodForGroups' ==========\n",
      "TYPE: boolean. Changing False -> 0, True -> 1.\n",
      "Detected NaN in column. Replacing with mean of non-NaN values.\n",
      "\n",
      "========== Feature 'attributes_RestaurantsPriceRange2' ==========\n",
      "TYPE: numeric.\n",
      "Detected NaN in column. Replacing with mean of non-NaN values.\n",
      "\n",
      "========== Feature 'attributes_RestaurantsReservations' ==========\n",
      "TYPE: boolean. Changing False -> 0, True -> 1.\n",
      "Detected NaN in column. Replacing with mean of non-NaN values.\n",
      "\n",
      "========== Feature 'attributes_WiFi' ==========\n",
      "TYPE: string. Doing one-hot encoding.\n",
      "\n"
     ]
    }
   ],
   "source": [
    "%load_ext autoreload\n",
    "%autoreload 2\n",
    "\n",
    "b_data, u_data, reviews = get_training_data(verbose=True)"
   ]
  },
  {
   "cell_type": "code",
   "execution_count": 8,
   "metadata": {
    "hidden": true
   },
   "outputs": [
    {
     "name": "stdout",
     "output_type": "stream",
     "text": [
      "========== Feature 'attributes_GoodForKids' ==========\n",
      "TYPE: boolean. Changing False -> 0, True -> 1.\n",
      "Detected NaN in column. Replacing with mean of non-NaN values.\n",
      "\n",
      "========== Feature 'attributes_OutdoorSeating' ==========\n",
      "TYPE: boolean. Changing False -> 0, True -> 1.\n",
      "Detected NaN in column. Replacing with mean of non-NaN values.\n",
      "\n",
      "========== Feature 'attributes_RestaurantsDelivery' ==========\n",
      "TYPE: boolean. Changing False -> 0, True -> 1.\n",
      "Detected NaN in column. Replacing with mean of non-NaN values.\n",
      "\n",
      "========== Feature 'attributes_RestaurantsGoodForGroups' ==========\n",
      "TYPE: boolean. Changing False -> 0, True -> 1.\n",
      "Detected NaN in column. Replacing with mean of non-NaN values.\n",
      "\n",
      "========== Feature 'attributes_RestaurantsPriceRange2' ==========\n",
      "TYPE: numeric.\n",
      "Detected NaN in column. Replacing with mean of non-NaN values.\n",
      "\n",
      "========== Feature 'attributes_RestaurantsReservations' ==========\n",
      "TYPE: boolean. Changing False -> 0, True -> 1.\n",
      "Detected NaN in column. Replacing with mean of non-NaN values.\n",
      "\n",
      "========== Feature 'attributes_WiFi' ==========\n",
      "TYPE: string. Doing one-hot encoding.\n",
      "\n"
     ]
    }
   ],
   "source": []
  },
  {
   "cell_type": "markdown",
   "metadata": {
    "heading_collapsed": true
   },
   "source": [
    "# Verify data was cleaned correctly"
   ]
  },
  {
   "cell_type": "code",
   "execution_count": 38,
   "metadata": {
    "hidden": true
   },
   "outputs": [
    {
     "data": {
      "text/html": [
       "<div>\n",
       "<style scoped>\n",
       "    .dataframe tbody tr th:only-of-type {\n",
       "        vertical-align: middle;\n",
       "    }\n",
       "\n",
       "    .dataframe tbody tr th {\n",
       "        vertical-align: top;\n",
       "    }\n",
       "\n",
       "    .dataframe thead th {\n",
       "        text-align: right;\n",
       "    }\n",
       "</style>\n",
       "<table border=\"1\" class=\"dataframe\">\n",
       "  <thead>\n",
       "    <tr style=\"text-align: right;\">\n",
       "      <th></th>\n",
       "      <th>attributes_GoodForKids</th>\n",
       "      <th>attributes_OutdoorSeating</th>\n",
       "      <th>attributes_RestaurantsDelivery</th>\n",
       "      <th>attributes_RestaurantsGoodForGroups</th>\n",
       "      <th>attributes_RestaurantsPriceRange2</th>\n",
       "      <th>attributes_RestaurantsReservations</th>\n",
       "      <th>attributes_WiFi</th>\n",
       "      <th>stars</th>\n",
       "    </tr>\n",
       "    <tr>\n",
       "      <th>business_id</th>\n",
       "      <th></th>\n",
       "      <th></th>\n",
       "      <th></th>\n",
       "      <th></th>\n",
       "      <th></th>\n",
       "      <th></th>\n",
       "      <th></th>\n",
       "      <th></th>\n",
       "    </tr>\n",
       "  </thead>\n",
       "  <tbody>\n",
       "    <tr>\n",
       "      <th>KuxDPl6UYNLxFChPm0_MNw</th>\n",
       "      <td>0.0</td>\n",
       "      <td>1.0</td>\n",
       "      <td>0.0</td>\n",
       "      <td>1.0</td>\n",
       "      <td>2.0</td>\n",
       "      <td>1.0</td>\n",
       "      <td>0</td>\n",
       "      <td>4.0</td>\n",
       "    </tr>\n",
       "    <tr>\n",
       "      <th>6SAfQKe2oM5g_EtcYXyAMg</th>\n",
       "      <td>1.0</td>\n",
       "      <td>1.0</td>\n",
       "      <td>0.0</td>\n",
       "      <td>1.0</td>\n",
       "      <td>1.0</td>\n",
       "      <td>0.0</td>\n",
       "      <td>0</td>\n",
       "      <td>4.0</td>\n",
       "    </tr>\n",
       "    <tr>\n",
       "      <th>upB0RQl-l529IVwgOpwOQQ</th>\n",
       "      <td>0.0</td>\n",
       "      <td>1.0</td>\n",
       "      <td>0.0</td>\n",
       "      <td>1.0</td>\n",
       "      <td>1.0</td>\n",
       "      <td>0.0</td>\n",
       "      <td>0</td>\n",
       "      <td>4.5</td>\n",
       "    </tr>\n",
       "    <tr>\n",
       "      <th>TulmRC5V0--dnXYd_GOSvA</th>\n",
       "      <td>1.0</td>\n",
       "      <td>0.0</td>\n",
       "      <td>0.0</td>\n",
       "      <td>1.0</td>\n",
       "      <td>2.0</td>\n",
       "      <td>0.0</td>\n",
       "      <td>0</td>\n",
       "      <td>4.0</td>\n",
       "    </tr>\n",
       "    <tr>\n",
       "      <th>yqYtY3-Po4OVPafA9Z-Xyw</th>\n",
       "      <td>1.0</td>\n",
       "      <td>0.0</td>\n",
       "      <td>0.0</td>\n",
       "      <td>1.0</td>\n",
       "      <td>2.0</td>\n",
       "      <td>1.0</td>\n",
       "      <td>1</td>\n",
       "      <td>3.5</td>\n",
       "    </tr>\n",
       "  </tbody>\n",
       "</table>\n",
       "</div>"
      ],
      "text/plain": [
       "                        attributes_GoodForKids  attributes_OutdoorSeating  \\\n",
       "business_id                                                                 \n",
       "KuxDPl6UYNLxFChPm0_MNw                     0.0                        1.0   \n",
       "6SAfQKe2oM5g_EtcYXyAMg                     1.0                        1.0   \n",
       "upB0RQl-l529IVwgOpwOQQ                     0.0                        1.0   \n",
       "TulmRC5V0--dnXYd_GOSvA                     1.0                        0.0   \n",
       "yqYtY3-Po4OVPafA9Z-Xyw                     1.0                        0.0   \n",
       "\n",
       "                        attributes_RestaurantsDelivery  \\\n",
       "business_id                                              \n",
       "KuxDPl6UYNLxFChPm0_MNw                             0.0   \n",
       "6SAfQKe2oM5g_EtcYXyAMg                             0.0   \n",
       "upB0RQl-l529IVwgOpwOQQ                             0.0   \n",
       "TulmRC5V0--dnXYd_GOSvA                             0.0   \n",
       "yqYtY3-Po4OVPafA9Z-Xyw                             0.0   \n",
       "\n",
       "                        attributes_RestaurantsGoodForGroups  \\\n",
       "business_id                                                   \n",
       "KuxDPl6UYNLxFChPm0_MNw                                  1.0   \n",
       "6SAfQKe2oM5g_EtcYXyAMg                                  1.0   \n",
       "upB0RQl-l529IVwgOpwOQQ                                  1.0   \n",
       "TulmRC5V0--dnXYd_GOSvA                                  1.0   \n",
       "yqYtY3-Po4OVPafA9Z-Xyw                                  1.0   \n",
       "\n",
       "                        attributes_RestaurantsPriceRange2  \\\n",
       "business_id                                                 \n",
       "KuxDPl6UYNLxFChPm0_MNw                                2.0   \n",
       "6SAfQKe2oM5g_EtcYXyAMg                                1.0   \n",
       "upB0RQl-l529IVwgOpwOQQ                                1.0   \n",
       "TulmRC5V0--dnXYd_GOSvA                                2.0   \n",
       "yqYtY3-Po4OVPafA9Z-Xyw                                2.0   \n",
       "\n",
       "                        attributes_RestaurantsReservations  attributes_WiFi  \\\n",
       "business_id                                                                   \n",
       "KuxDPl6UYNLxFChPm0_MNw                                 1.0                0   \n",
       "6SAfQKe2oM5g_EtcYXyAMg                                 0.0                0   \n",
       "upB0RQl-l529IVwgOpwOQQ                                 0.0                0   \n",
       "TulmRC5V0--dnXYd_GOSvA                                 0.0                0   \n",
       "yqYtY3-Po4OVPafA9Z-Xyw                                 1.0                1   \n",
       "\n",
       "                        stars  \n",
       "business_id                    \n",
       "KuxDPl6UYNLxFChPm0_MNw    4.0  \n",
       "6SAfQKe2oM5g_EtcYXyAMg    4.0  \n",
       "upB0RQl-l529IVwgOpwOQQ    4.5  \n",
       "TulmRC5V0--dnXYd_GOSvA    4.0  \n",
       "yqYtY3-Po4OVPafA9Z-Xyw    3.5  "
      ]
     },
     "execution_count": 38,
     "metadata": {},
     "output_type": "execute_result"
    }
   ],
   "source": [
    "for col in b_data.columns:\n",
    "    u_vals = b_data[col].unique()\n",
    "    print(col, u_vals)\n",
    "    input()\n",
    "    clear_output()\n",
    "    \n",
    "b_data.head()"
   ]
  },
  {
   "cell_type": "markdown",
   "metadata": {},
   "source": [
    "# Regression"
   ]
  },
  {
   "cell_type": "markdown",
   "metadata": {},
   "source": [
    "## Create design matrix for training data"
   ]
  },
  {
   "cell_type": "code",
   "execution_count": 4,
   "metadata": {},
   "outputs": [
    {
     "name": "stdout",
     "output_type": "stream",
     "text": [
      "20000/150232 done\n",
      "40000/150232 done\n",
      "60000/150232 done\n",
      "80000/150232 done\n",
      "100000/150232 done\n",
      "120000/150232 done\n",
      "140000/150232 done\n",
      "Done\n"
     ]
    }
   ],
   "source": [
    "N = len(reviews['stars'])\n",
    "Db = len(b_data.columns)\n",
    "Du = len(u_data.columns)\n",
    "D = Db + Du\n",
    "\n",
    "X = np.zeros((N, D))\n",
    "y = np.zeros(N)\n",
    "\n",
    "for i, review in reviews.iterrows():\n",
    "    if (i % 20000) == 0:\n",
    "        print('%d/%d done' % (i, N))\n",
    "    \n",
    "    u_id = review['user_id']\n",
    "    b_id = review['business_id']\n",
    "    y[i] = review['stars']\n",
    "    \n",
    "    X[i, :Db] = b_data.loc[b_id].values\n",
    "    X[i, Db:] = u_data.loc[u_id].values\n",
    "    \n",
    "print('Done')"
   ]
  },
  {
   "cell_type": "markdown",
   "metadata": {},
   "source": [
    "## Create design matrix for validation data"
   ]
  },
  {
   "cell_type": "code",
   "execution_count": 11,
   "metadata": {},
   "outputs": [
    {
     "name": "stdout",
     "output_type": "stream",
     "text": [
      "0/50077 done\n",
      "20000/50077 done\n",
      "40000/50077 done\n",
      "float64\n",
      "Done!\n"
     ]
    }
   ],
   "source": [
    "v_queries = get_validation_reviews()\n",
    "Nv = len(v_queries['stars'])\n",
    "X_valid = np.zeros((Nv, D))\n",
    "y_valid = np.zeros(Nv)\n",
    "\n",
    "for i, review in v_queries.iterrows():\n",
    "    if (i % 20000) == 0:\n",
    "        print('%d/%d done' % (i, Nv))\n",
    "        \n",
    "    u_id = review['user_id']\n",
    "    b_id = review['business_id']\n",
    "    y_valid[i] = review['stars']\n",
    "    \n",
    "    X_valid[i, :Db] = b_data.loc[b_id].values\n",
    "    X_valid[i, Db:] = u_data.loc[u_id].values\n",
    "    \n",
    "print('Done!')"
   ]
  },
  {
   "cell_type": "markdown",
   "metadata": {},
   "source": [
    "## Do regression"
   ]
  },
  {
   "cell_type": "code",
   "execution_count": 7,
   "metadata": {},
   "outputs": [],
   "source": [
    "results = dict()\n",
    "\n",
    "def mse(y1, y2):\n",
    "    return np.mean((y1-y2)**2)"
   ]
  },
  {
   "cell_type": "code",
   "execution_count": 8,
   "metadata": {},
   "outputs": [
    {
     "name": "stdout",
     "output_type": "stream",
     "text": [
      "Training MSE: 1.012298\n",
      "Validation MSE: 1.107752\n"
     ]
    }
   ],
   "source": [
    "clf = Ridge(alpha=0.1)\n",
    "clf.fit(X, y)\n",
    "\n",
    "# training error\n",
    "y_pred_train = clf.predict(X)\n",
    "mse_train = mse(y, y_pred_train)\n",
    "print('Training MSE: %f' % mse_train)\n",
    "\n",
    "y_pred_valid = clf.predict(X_valid)\n",
    "mse_valid = mse(y_valid, y_pred_valid)\n",
    "print('Validation MSE: %f' % mse_valid)"
   ]
  },
  {
   "cell_type": "code",
   "execution_count": 10,
   "metadata": {},
   "outputs": [
    {
     "data": {
      "text/plain": [
       "array([4., 5., 2., 3., 1.])"
      ]
     },
     "execution_count": 10,
     "metadata": {},
     "output_type": "execute_result"
    }
   ],
   "source": [
    "reviews['stars'].unique()"
   ]
  }
 ],
 "metadata": {
  "kernelspec": {
   "display_name": "Python 3",
   "language": "python",
   "name": "python3"
  },
  "language_info": {
   "codemirror_mode": {
    "name": "ipython",
    "version": 3
   },
   "file_extension": ".py",
   "mimetype": "text/x-python",
   "name": "python",
   "nbconvert_exporter": "python",
   "pygments_lexer": "ipython3",
   "version": "3.5.2"
  },
  "varInspector": {
   "cols": {
    "lenName": 16,
    "lenType": 16,
    "lenVar": 40
   },
   "kernels_config": {
    "python": {
     "delete_cmd_postfix": "",
     "delete_cmd_prefix": "del ",
     "library": "var_list.py",
     "varRefreshCmd": "print(var_dic_list())"
    },
    "r": {
     "delete_cmd_postfix": ") ",
     "delete_cmd_prefix": "rm(",
     "library": "var_list.r",
     "varRefreshCmd": "cat(var_dic_list()) "
    }
   },
   "types_to_exclude": [
    "module",
    "function",
    "builtin_function_or_method",
    "instance",
    "_Feature"
   ],
   "window_display": false
  }
 },
 "nbformat": 4,
 "nbformat_minor": 2
}
